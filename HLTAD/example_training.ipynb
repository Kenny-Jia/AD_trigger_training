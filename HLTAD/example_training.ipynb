{
 "cells": [
  {
   "cell_type": "code",
   "execution_count": 1,
   "id": "b4db7479-2e95-49b5-afd6-177cecaa3330",
   "metadata": {},
   "outputs": [
    {
     "name": "stderr",
     "output_type": "stream",
     "text": [
      "2024-10-30 20:35:15.360753: I tensorflow/core/util/port.cc:110] oneDNN custom operations are on. You may see slightly different numerical results due to floating-point round-off errors from different computation orders. To turn them off, set the environment variable `TF_ENABLE_ONEDNN_OPTS=0`.\n",
      "2024-10-30 20:35:15.412256: I tensorflow/core/platform/cpu_feature_guard.cc:182] This TensorFlow binary is optimized to use available CPU instructions in performance-critical operations.\n",
      "To enable the following instructions: AVX2 AVX512F AVX512_VNNI FMA, in other operations, rebuild TensorFlow with the appropriate compiler flags.\n"
     ]
    },
    {
     "name": "stdout",
     "output_type": "stream",
     "text": [
      "Welcome to JupyROOT 6.30/04\n"
     ]
    }
   ],
   "source": [
    "import numpy as np\n",
    "import matplotlib.pyplot as plt\n",
    "import h5py\n",
    "#import random\n",
    "#import sklearn\n",
    "#import collections\n",
    "#from sklearn.model_selection import train_test_split\n",
    "#import json\n",
    "#import pylab \n",
    "#from scipy.optimize import curve_fit\n",
    "from tensorflow.keras import layers, Model\n",
    "import tensorflow.keras.backend as K\n",
    "from tensorflow.keras.callbacks import EarlyStopping, ReduceLROnPlateau\n",
    "from tensorflow.keras.models import load_model\n",
    "from sklearn.metrics import roc_curve, auc\n",
    "import matplotlib\n",
    "import matplotlib.patches as mpatches\n",
    "#import shap\n",
    "#import pandas as pd\n",
    "import tensorflow as tf\n",
    "#import tarfile\n",
    "from tensorflow.keras.models import load_model\n",
    "#from qkeras import QActivation, QDense, QConv2D, QBatchNormalization\n",
    "import ensembler_functions as ef\n",
    "import tf2onnx\n",
    "import onnx\n",
    "import os\n",
    "from sklearn.model_selection import train_test_split\n",
    "import load_and_match as lam"
   ]
  },
  {
   "cell_type": "code",
   "execution_count": 2,
   "id": "86a2b96d-16e4-43ac-af26-5b123306af79",
   "metadata": {},
   "outputs": [],
   "source": [
    "# Set matplotlib default color cycle\n",
    "new_color_cycle = [\n",
    "    '#1f77b4',\n",
    "    '#ff7f0e',\n",
    "    '#2ca02c',\n",
    "    '#d62728',\n",
    "    '#9467bd',\n",
    "    '#8c564b',\n",
    "    '#e377c2',\n",
    "    '#7f7f7f',\n",
    "    '#bcbd22',\n",
    "    '#17becf',\n",
    "    '#aec7e8',\n",
    "    '#ffbb78',\n",
    "    '#98df8a',\n",
    "    '#ff9896',\n",
    "    '#c5b0d5',\n",
    "    '#c49c94',\n",
    "    '#f7b6d2',\n",
    "    '#c7c7c7',\n",
    "    '#dbdb8d',\n",
    "    '#9edae5'\n",
    "]\n",
    "\n",
    "# You can then apply this new color cycle to your matplotlib plots\n",
    "plt.rcParams['axes.prop_cycle'] = plt.cycler(color=new_color_cycle)"
   ]
  },
  {
   "cell_type": "code",
   "execution_count": 3,
   "id": "b53f2bf9-443e-4302-aab7-bfd6c88fade2",
   "metadata": {},
   "outputs": [],
   "source": [
    "L1AD_rate = 1000\n",
    "target_rate = 10"
   ]
  },
  {
   "cell_type": "code",
   "execution_count": null,
   "id": "3383e299-c4ce-4bc3-8d53-bacb25c32b66",
   "metadata": {},
   "outputs": [],
   "source": [
    "# Load and match my data with the topo2A (L1AD) scores. Only needs to be done once ever.\n",
    "lam.load_and_match('./h5_ntuples/11-5-2024')"
   ]
  },
  {
   "cell_type": "code",
   "execution_count": null,
   "id": "dc193906-ab9c-44e9-99ed-563de39ea3b3",
   "metadata": {
    "scrolled": true
   },
   "outputs": [],
   "source": [
    "data_info = {\n",
    "    \"train_data_scheme\": \"topo2A_train+overlap\", \n",
    "    \"pt_normalization_type\": \"StandardScaler\", \n",
    "    \"L1AD_rate\": 1000\n",
    "}\n",
    "\n",
    "training_info = {\n",
    "    \"save_path\": \"./trained_models/multiple_trainings/trial_8\", \n",
    "    \"dropout_p\": 0.1, \n",
    "    \"L2_reg_coupling\": 0.01, \n",
    "    \"latent_dim\": 4, \n",
    "    \"large_network\": True, \n",
    "    \"num_trainings\": 10,\n",
    "    \"training_weights\": True\n",
    "}\n",
    "\n",
    "datasets, data_info = ef.load_and_preprocess(**data_info)\n",
    "training_info, data_info = ef.train_multiple_models(datasets, data_info, **training_info)"
   ]
  },
  {
   "cell_type": "code",
   "execution_count": null,
   "id": "fba24f4e-09dd-4843-87b2-83f2012966a4",
   "metadata": {
    "scrolled": true
   },
   "outputs": [],
   "source": [
    "ef.process_multiple_models(\n",
    "    training_info=training_info,\n",
    "    data_info=data_info,\n",
    "    plots_path=training_info['save_path']+'/plots',\n",
    "    target_rate=target_rate,\n",
    "    L1AD_rate=L1AD_rate\n",
    ")"
   ]
  },
  {
   "cell_type": "markdown",
   "id": "22c6bf04-80e5-4f4b-a5e2-3811ad2ac00f",
   "metadata": {
    "jp-MarkdownHeadingCollapsed": true
   },
   "source": [
    "### Test ONNX"
   ]
  },
  {
   "cell_type": "code",
   "execution_count": 7,
   "id": "b26414c2-21d0-4cf1-a476-b2a53faa437f",
   "metadata": {},
   "outputs": [
    {
     "name": "stderr",
     "output_type": "stream",
     "text": [
      "Could not search for non-variable resources. Concrete function internal representation may have changed.\n",
      "2024-10-30 15:45:26.715362: I tensorflow/core/grappler/devices.cc:75] Number of eligible GPUs (core count >= 8, compute capability >= 0.0): 0 (Note: TensorFlow was not compiled with CUDA or ROCm support)\n",
      "2024-10-30 15:45:26.715559: I tensorflow/core/grappler/clusters/single_machine.cc:357] Starting new session\n",
      "2024-10-30 15:45:27.230193: I tensorflow/core/grappler/devices.cc:75] Number of eligible GPUs (core count >= 8, compute capability >= 0.0): 0 (Note: TensorFlow was not compiled with CUDA or ROCm support)\n",
      "2024-10-30 15:45:27.230453: I tensorflow/core/grappler/clusters/single_machine.cc:357] Starting new session\n"
     ]
    },
    {
     "name": "stdout",
     "output_type": "stream",
     "text": [
      "ONNX HLT_AE model saved to: ./trained_models/multiple_trainings/trial_2/onnx/HLT_AE_0.onnx\n"
     ]
    },
    {
     "name": "stderr",
     "output_type": "stream",
     "text": [
      "Could not search for non-variable resources. Concrete function internal representation may have changed.\n",
      "2024-10-30 15:45:29.812788: I tensorflow/core/grappler/devices.cc:75] Number of eligible GPUs (core count >= 8, compute capability >= 0.0): 0 (Note: TensorFlow was not compiled with CUDA or ROCm support)\n",
      "2024-10-30 15:45:29.812992: I tensorflow/core/grappler/clusters/single_machine.cc:357] Starting new session\n",
      "2024-10-30 15:45:30.345443: I tensorflow/core/grappler/devices.cc:75] Number of eligible GPUs (core count >= 8, compute capability >= 0.0): 0 (Note: TensorFlow was not compiled with CUDA or ROCm support)\n",
      "2024-10-30 15:45:30.345661: I tensorflow/core/grappler/clusters/single_machine.cc:357] Starting new session\n"
     ]
    },
    {
     "name": "stdout",
     "output_type": "stream",
     "text": [
      "ONNX L1_AE model saved to: ./trained_models/multiple_trainings/trial_2/onnx/L1_AE_0.onnx\n",
      "Loaded A14N23LO from ./h5_ntuples/A14N23LO.h5\n",
      "Loaded EB from ./h5_ntuples/EB.h5\n",
      "Loaded EB_test2 from ./h5_ntuples/EB_test2.h5\n",
      "Loaded EB_train from ./h5_ntuples/EB_train.h5\n",
      "Loaded HAHMggfZdZd2l2nu from ./h5_ntuples/HAHMggfZdZd2l2nu.h5\n",
      "Loaded HHbbttHadHad from ./h5_ntuples/HHbbttHadHad.h5\n",
      "Loaded HLT_noalg_eb_L1All from ./h5_ntuples/HLT_noalg_eb_L1All.h5\n",
      "Loaded ZZ4lep from ./h5_ntuples/ZZ4lep.h5\n",
      "Loaded Zprime2EJs from ./h5_ntuples/Zprime2EJs.h5\n",
      "Loaded jjJZ1 from ./h5_ntuples/jjJZ1.h5\n",
      "Loaded jjJZ2 from ./h5_ntuples/jjJZ2.h5\n",
      "Loaded jjJZ4 from ./h5_ntuples/jjJZ4.h5\n",
      "Loaded qqa from ./h5_ntuples/qqa.h5\n"
     ]
    }
   ],
   "source": [
    "training_info = {\n",
    "    \"save_path\": \"./trained_models/multiple_trainings/trial_2\", \n",
    "    \"dropout_p\": 0.1, \n",
    "    \"L2_reg_coupling\": 0.01, \n",
    "    \"latent_dim\": 4, \n",
    "    \"large_network\": True, \n",
    "    \"num_trainings\": 10,\n",
    "    \"training_weights\": True\n",
    "}\n",
    "\n",
    "data_info = {\n",
    "    \"train_data_scheme\": \n",
    "    \"topo2A_train+overlap\", \n",
    "    \"pt_normalization_type\": \n",
    "    \"global_division\", \n",
    "    \"L1AD_rate\": 1000\n",
    "}\n",
    "model_version=0\n",
    "ef.convert_to_onnx(training_info=training_info, model_version=model_version, object_type='HLT', save_dir='./trained_models/multiple_trainings/trial_2/onnx')\n",
    "ef.convert_to_onnx(training_info=training_info, model_version=model_version, object_type='L1', save_dir='./trained_models/multiple_trainings/trial_2/onnx')\n",
    "datasets, data_info = ef.load_and_preprocess(**data_info)\n",
    "datasets = ef.compare_tf_with_onnx(datasets=datasets, training_info=training_info, model_version=0, onnx_path='./trained_models/multiple_trainings/trial_2/onnx')"
   ]
  },
  {
   "cell_type": "code",
   "execution_count": 8,
   "id": "328a96a8-96f2-4714-b7ce-079282e725b0",
   "metadata": {
    "scrolled": true
   },
   "outputs": [
    {
     "name": "stdout",
     "output_type": "stream",
     "text": [
      "A14N23LO:\n",
      "    HLT_data: (10000, 48)\n",
      "    L1_data: (10000, 48)\n",
      "    passHLT: (10000,)\n",
      "    passL1: (10000,)\n",
      "    topo2A_AD_scores: (10000,)\n",
      "    weights: (10000,)\n",
      "    L1Seeded: (10000,)\n",
      "    HLT_model_outputs: (10000, 48)\n",
      "    L1_model_outputs: (10000, 48)\n",
      "    HLT_AD_scores: (10000,)\n",
      "    L1_AD_scores: (10000,)\n",
      "    ONNX_HLT_model_outputs: (10000, 48)\n",
      "    ONNX_L1_model_outputs: (10000, 48)\n",
      "    ONNX_HLT_AD_scores: (10000,)\n",
      "    ONNX_L1_AD_scores: (10000,)\n",
      "HAHMggfZdZd2l2nu:\n",
      "    HLT_data: (70000, 48)\n",
      "    L1_data: (70000, 48)\n",
      "    passHLT: (70000,)\n",
      "    passL1: (70000,)\n",
      "    topo2A_AD_scores: (70000,)\n",
      "    weights: (70000,)\n",
      "    L1Seeded: (70000,)\n",
      "    HLT_model_outputs: (70000, 48)\n",
      "    L1_model_outputs: (70000, 48)\n",
      "    HLT_AD_scores: (70000,)\n",
      "    L1_AD_scores: (70000,)\n",
      "    ONNX_HLT_model_outputs: (70000, 48)\n",
      "    ONNX_L1_model_outputs: (70000, 48)\n",
      "    ONNX_HLT_AD_scores: (70000,)\n",
      "    ONNX_L1_AD_scores: (70000,)\n",
      "HHbbttHadHad:\n",
      "    HLT_data: (100000, 48)\n",
      "    L1_data: (100000, 48)\n",
      "    passHLT: (100000,)\n",
      "    passL1: (100000,)\n",
      "    topo2A_AD_scores: (100000,)\n",
      "    weights: (100000,)\n",
      "    L1Seeded: (100000,)\n",
      "    HLT_model_outputs: (100000, 48)\n",
      "    L1_model_outputs: (100000, 48)\n",
      "    HLT_AD_scores: (100000,)\n",
      "    L1_AD_scores: (100000,)\n",
      "    ONNX_HLT_model_outputs: (100000, 48)\n",
      "    ONNX_L1_model_outputs: (100000, 48)\n",
      "    ONNX_HLT_AD_scores: (100000,)\n",
      "    ONNX_L1_AD_scores: (100000,)\n",
      "ZZ4lep:\n",
      "    HLT_data: (100000, 48)\n",
      "    L1_data: (100000, 48)\n",
      "    passHLT: (100000,)\n",
      "    passL1: (100000,)\n",
      "    topo2A_AD_scores: (100000,)\n",
      "    weights: (100000,)\n",
      "    L1Seeded: (100000,)\n",
      "    HLT_model_outputs: (100000, 48)\n",
      "    L1_model_outputs: (100000, 48)\n",
      "    HLT_AD_scores: (100000,)\n",
      "    L1_AD_scores: (100000,)\n",
      "    ONNX_HLT_model_outputs: (100000, 48)\n",
      "    ONNX_L1_model_outputs: (100000, 48)\n",
      "    ONNX_HLT_AD_scores: (100000,)\n",
      "    ONNX_L1_AD_scores: (100000,)\n",
      "Zprime2EJs:\n",
      "    HLT_data: (100000, 48)\n",
      "    L1_data: (100000, 48)\n",
      "    passHLT: (100000,)\n",
      "    passL1: (100000,)\n",
      "    topo2A_AD_scores: (100000,)\n",
      "    weights: (100000,)\n",
      "    L1Seeded: (100000,)\n",
      "    HLT_model_outputs: (100000, 48)\n",
      "    L1_model_outputs: (100000, 48)\n",
      "    HLT_AD_scores: (100000,)\n",
      "    L1_AD_scores: (100000,)\n",
      "    ONNX_HLT_model_outputs: (100000, 48)\n",
      "    ONNX_L1_model_outputs: (100000, 48)\n",
      "    ONNX_HLT_AD_scores: (100000,)\n",
      "    ONNX_L1_AD_scores: (100000,)\n",
      "jjJZ1:\n",
      "    HLT_data: (100000, 48)\n",
      "    L1_data: (100000, 48)\n",
      "    passHLT: (100000,)\n",
      "    passL1: (100000,)\n",
      "    topo2A_AD_scores: (100000,)\n",
      "    weights: (100000,)\n",
      "    L1Seeded: (100000,)\n",
      "    HLT_model_outputs: (100000, 48)\n",
      "    L1_model_outputs: (100000, 48)\n",
      "    HLT_AD_scores: (100000,)\n",
      "    L1_AD_scores: (100000,)\n",
      "    ONNX_HLT_model_outputs: (100000, 48)\n",
      "    ONNX_L1_model_outputs: (100000, 48)\n",
      "    ONNX_HLT_AD_scores: (100000,)\n",
      "    ONNX_L1_AD_scores: (100000,)\n",
      "jjJZ2:\n",
      "    HLT_data: (100000, 48)\n",
      "    L1_data: (100000, 48)\n",
      "    passHLT: (100000,)\n",
      "    passL1: (100000,)\n",
      "    topo2A_AD_scores: (100000,)\n",
      "    weights: (100000,)\n",
      "    L1Seeded: (100000,)\n",
      "    HLT_model_outputs: (100000, 48)\n",
      "    L1_model_outputs: (100000, 48)\n",
      "    HLT_AD_scores: (100000,)\n",
      "    L1_AD_scores: (100000,)\n",
      "    ONNX_HLT_model_outputs: (100000, 48)\n",
      "    ONNX_L1_model_outputs: (100000, 48)\n",
      "    ONNX_HLT_AD_scores: (100000,)\n",
      "    ONNX_L1_AD_scores: (100000,)\n",
      "jjJZ4:\n",
      "    HLT_data: (100000, 48)\n",
      "    L1_data: (100000, 48)\n",
      "    passHLT: (100000,)\n",
      "    passL1: (100000,)\n",
      "    topo2A_AD_scores: (100000,)\n",
      "    weights: (100000,)\n",
      "    L1Seeded: (100000,)\n",
      "    HLT_model_outputs: (100000, 48)\n",
      "    L1_model_outputs: (100000, 48)\n",
      "    HLT_AD_scores: (100000,)\n",
      "    L1_AD_scores: (100000,)\n",
      "    ONNX_HLT_model_outputs: (100000, 48)\n",
      "    ONNX_L1_model_outputs: (100000, 48)\n",
      "    ONNX_HLT_AD_scores: (100000,)\n",
      "    ONNX_L1_AD_scores: (100000,)\n",
      "qqa:\n",
      "    HLT_data: (50000, 48)\n",
      "    L1_data: (50000, 48)\n",
      "    passHLT: (50000,)\n",
      "    passL1: (50000,)\n",
      "    topo2A_AD_scores: (50000,)\n",
      "    weights: (50000,)\n",
      "    L1Seeded: (50000,)\n",
      "    HLT_model_outputs: (50000, 48)\n",
      "    L1_model_outputs: (50000, 48)\n",
      "    HLT_AD_scores: (50000,)\n",
      "    L1_AD_scores: (50000,)\n",
      "    ONNX_HLT_model_outputs: (50000, 48)\n",
      "    ONNX_L1_model_outputs: (50000, 48)\n",
      "    ONNX_HLT_AD_scores: (50000,)\n",
      "    ONNX_L1_AD_scores: (50000,)\n",
      "EB_test:\n",
      "    HLT_data: (509167, 48)\n",
      "    L1_data: (509167, 48)\n",
      "    event_numbers: (509167,)\n",
      "    passHLT: (509167,)\n",
      "    passL1: (509167,)\n",
      "    pileups: (509167,)\n",
      "    run_numbers: (509167,)\n",
      "    topo2A_AD_scores: (509167,)\n",
      "    weights: (509167,)\n",
      "    L1Seeded: (509167,)\n",
      "    HLT_model_outputs: (509167, 48)\n",
      "    L1_model_outputs: (509167, 48)\n",
      "    HLT_AD_scores: (509167,)\n",
      "    L1_AD_scores: (509167,)\n",
      "    ONNX_HLT_model_outputs: (509167, 48)\n",
      "    ONNX_L1_model_outputs: (509167, 48)\n",
      "    ONNX_HLT_AD_scores: (509167,)\n",
      "    ONNX_L1_AD_scores: (509167,)\n",
      "EB_train:\n",
      "    HLT_data: (1493152, 48)\n",
      "    L1_data: (1493152, 48)\n",
      "    event_numbers: (1493152,)\n",
      "    passHLT: (1493152,)\n",
      "    passL1: (1493152,)\n",
      "    pileups: (1493152,)\n",
      "    run_numbers: (1493152,)\n",
      "    topo2A_AD_scores: (1493152,)\n",
      "    weights: (1493152,)\n",
      "    L1Seeded: (1493152,)\n",
      "EB_val:\n",
      "    HLT_data: (263498, 48)\n",
      "    L1_data: (263498, 48)\n",
      "    event_numbers: (263498,)\n",
      "    passHLT: (263498,)\n",
      "    passL1: (263498,)\n",
      "    pileups: (263498,)\n",
      "    run_numbers: (263498,)\n",
      "    topo2A_AD_scores: (263498,)\n",
      "    weights: (263498,)\n",
      "    L1Seeded: (263498,)\n"
     ]
    }
   ],
   "source": [
    "for tag, data_dict in datasets.items():\n",
    "    print(f'{tag}:')\n",
    "    for key, value in data_dict.items():\n",
    "        print(f'    {key}: {value.shape}')"
   ]
  },
  {
   "cell_type": "code",
   "execution_count": 9,
   "id": "e5f166e0-967b-4beb-9593-c0aea74b474a",
   "metadata": {},
   "outputs": [
    {
     "name": "stdout",
     "output_type": "stream",
     "text": [
      "[1.62544931 1.92602879 1.33561259 0.         1.06108748]\n",
      "\n",
      "[1.62544931 1.92602879 1.33561259 0.         1.06108748]\n"
     ]
    }
   ],
   "source": [
    "print(datasets['EB_test']['HLT_AD_scores'][0:5])\n",
    "print()\n",
    "print(datasets['EB_test']['ONNX_HLT_AD_scores'][0:5])"
   ]
  },
  {
   "cell_type": "code",
   "execution_count": null,
   "id": "b706dfe9-b68b-453f-a6cf-4a21d13c02e6",
   "metadata": {},
   "outputs": [],
   "source": [
    "# Success! These AD scores are the same."
   ]
  },
  {
   "cell_type": "code",
   "execution_count": null,
   "id": "f8511137-fa7c-45cf-b05f-1eeb919f84b1",
   "metadata": {},
   "outputs": [],
   "source": []
  }
 ],
 "metadata": {
  "kernelspec": {
   "display_name": "Python 3",
   "language": "python",
   "name": "python3"
  },
  "language_info": {
   "codemirror_mode": {
    "name": "ipython",
    "version": 3
   },
   "file_extension": ".py",
   "mimetype": "text/x-python",
   "name": "python",
   "nbconvert_exporter": "python",
   "pygments_lexer": "ipython3",
   "version": "3.9.12"
  }
 },
 "nbformat": 4,
 "nbformat_minor": 5
}
