{
 "cells": [
  {
   "cell_type": "code",
   "execution_count": 1,
   "id": "b4db7479-2e95-49b5-afd6-177cecaa3330",
   "metadata": {},
   "outputs": [
    {
     "name": "stderr",
     "output_type": "stream",
     "text": [
      "2024-12-20 06:44:34.727439: I tensorflow/core/util/port.cc:110] oneDNN custom operations are on. You may see slightly different numerical results due to floating-point round-off errors from different computation orders. To turn them off, set the environment variable `TF_ENABLE_ONEDNN_OPTS=0`.\n",
      "2024-12-20 06:44:35.065253: I tensorflow/core/platform/cpu_feature_guard.cc:182] This TensorFlow binary is optimized to use available CPU instructions in performance-critical operations.\n",
      "To enable the following instructions: AVX2 AVX512F AVX512_VNNI FMA, in other operations, rebuild TensorFlow with the appropriate compiler flags.\n"
     ]
    },
    {
     "name": "stdout",
     "output_type": "stream",
     "text": [
      "Welcome to JupyROOT 6.30/04\n"
     ]
    }
   ],
   "source": [
    "import numpy as np\n",
    "import matplotlib.pyplot as plt\n",
    "import h5py\n",
    "#import random\n",
    "#import sklearn\n",
    "#import collections\n",
    "#from sklearn.model_selection import train_test_split\n",
    "#import json\n",
    "#import pylab \n",
    "#from scipy.optimize import curve_fit\n",
    "from tensorflow.keras import layers, Model\n",
    "import tensorflow.keras.backend as K\n",
    "from tensorflow.keras.callbacks import EarlyStopping, ReduceLROnPlateau\n",
    "from tensorflow.keras.models import load_model\n",
    "from sklearn.metrics import roc_curve, auc\n",
    "import matplotlib\n",
    "import matplotlib.patches as mpatches\n",
    "#import shap\n",
    "#import pandas as pd\n",
    "import tensorflow as tf\n",
    "#import tarfile\n",
    "from tensorflow.keras.models import load_model\n",
    "#from qkeras import QActivation, QDense, QConv2D, QBatchNormalization\n",
    "import ensembler_functions as ef\n",
    "import tf2onnx\n",
    "import onnx\n",
    "import os\n",
    "from sklearn.model_selection import train_test_split\n",
    "#import load_and_match as lam"
   ]
  },
  {
   "cell_type": "code",
   "execution_count": 2,
   "id": "86a2b96d-16e4-43ac-af26-5b123306af79",
   "metadata": {},
   "outputs": [],
   "source": [
    "# Set matplotlib default color cycle\n",
    "new_color_cycle = [\n",
    "    '#1f77b4',\n",
    "    '#ff7f0e',\n",
    "    '#2ca02c',\n",
    "    '#d62728',\n",
    "    '#9467bd',\n",
    "    '#8c564b',\n",
    "    '#e377c2',\n",
    "    '#7f7f7f',\n",
    "    '#bcbd22',\n",
    "    '#17becf',\n",
    "    '#aec7e8',\n",
    "    '#ffbb78',\n",
    "    '#98df8a',\n",
    "    '#ff9896',\n",
    "    '#c5b0d5',\n",
    "    '#c49c94',\n",
    "    '#f7b6d2',\n",
    "    '#c7c7c7',\n",
    "    '#dbdb8d',\n",
    "    '#9edae5'\n",
    "]\n",
    "\n",
    "# You can then apply this new color cycle to your matplotlib plots\n",
    "plt.rcParams['axes.prop_cycle'] = plt.cycler(color=new_color_cycle)"
   ]
  },
  {
   "cell_type": "code",
   "execution_count": 3,
   "id": "b53f2bf9-443e-4302-aab7-bfd6c88fade2",
   "metadata": {},
   "outputs": [],
   "source": [
    "L1AD_rate = 1000\n",
    "target_rate = 10"
   ]
  },
  {
   "cell_type": "code",
   "execution_count": 4,
   "id": "3383e299-c4ce-4bc3-8d53-bacb25c32b66",
   "metadata": {},
   "outputs": [],
   "source": [
    "# First, one should run run_lam.py to generate match L1AD scores to the events, and then set that path\n",
    "# in ensembler_functions load_and_preprocess"
   ]
  },
  {
   "cell_type": "markdown",
   "id": "4f4e8c38-25ef-4575-8336-f60833f2ce70",
   "metadata": {
    "jp-MarkdownHeadingCollapsed": true
   },
   "source": [
    "### Main"
   ]
  },
  {
   "cell_type": "code",
   "execution_count": null,
   "id": "dc193906-ab9c-44e9-99ed-563de39ea3b3",
   "metadata": {
    "scrolled": true
   },
   "outputs": [
    {
     "name": "stdout",
     "output_type": "stream",
     "text": [
      "Loaded A14N23LO from /eos/home-m/mmcohen/ad_trigger_development/data/loaded_and_matched_ntuples/11-14-2024/A14N23LO.h5\n",
      "Loaded EB_473255 from /eos/home-m/mmcohen/ad_trigger_development/data/loaded_and_matched_ntuples/11-14-2024/EB_473255.h5\n",
      "Loaded EB_475321 from /eos/home-m/mmcohen/ad_trigger_development/data/loaded_and_matched_ntuples/11-14-2024/EB_475321.h5\n",
      "Loaded EB_482596 from /eos/home-m/mmcohen/ad_trigger_development/data/loaded_and_matched_ntuples/11-14-2024/EB_482596.h5\n",
      "Loaded HAHMggfZdZd2l2nu from /eos/home-m/mmcohen/ad_trigger_development/data/loaded_and_matched_ntuples/11-14-2024/HAHMggfZdZd2l2nu.h5\n",
      "Loaded HHbbttHadHad from /eos/home-m/mmcohen/ad_trigger_development/data/loaded_and_matched_ntuples/11-14-2024/HHbbttHadHad.h5\n",
      "Loaded HLT_noalg_eb_L1All from /eos/home-m/mmcohen/ad_trigger_development/data/loaded_and_matched_ntuples/11-14-2024/HLT_noalg_eb_L1All.h5\n",
      "Loaded ZZ4lep from /eos/home-m/mmcohen/ad_trigger_development/data/loaded_and_matched_ntuples/11-14-2024/ZZ4lep.h5\n",
      "Loaded Zprime2EJs from /eos/home-m/mmcohen/ad_trigger_development/data/loaded_and_matched_ntuples/11-14-2024/Zprime2EJs.h5\n",
      "Loaded jjJZ1 from /eos/home-m/mmcohen/ad_trigger_development/data/loaded_and_matched_ntuples/11-14-2024/jjJZ1.h5\n",
      "Loaded jjJZ2 from /eos/home-m/mmcohen/ad_trigger_development/data/loaded_and_matched_ntuples/11-14-2024/jjJZ2.h5\n",
      "Loaded jjJZ4 from /eos/home-m/mmcohen/ad_trigger_development/data/loaded_and_matched_ntuples/11-14-2024/jjJZ4.h5\n",
      "Loaded qqa from /eos/home-m/mmcohen/ad_trigger_development/data/loaded_and_matched_ntuples/11-14-2024/qqa.h5\n",
      "Loaded topo2A_train from /eos/home-m/mmcohen/ad_trigger_development/data/loaded_and_matched_ntuples/11-14-2024/topo2A_train.h5\n",
      "Booting up... initializing trainings of 10 models\n",
      "\n",
      "starting training model 0...\n",
      "\n",
      "Epoch 9: ReduceLROnPlateau reducing learning rate to 0.00010000000474974513.\n",
      "\n",
      "Epoch 9: ReduceLROnPlateau reducing learning rate to 0.00010000000474974513.\n",
      "\n",
      "Epoch 19: ReduceLROnPlateau reducing learning rate to 1.0000000474974514e-05.\n",
      "\n",
      "Epoch 25: ReduceLROnPlateau reducing learning rate to 1.0000000656873453e-06.\n",
      "model 0 success\n",
      "\n",
      "starting training model 1...\n",
      "\n",
      "Epoch 8: ReduceLROnPlateau reducing learning rate to 0.00010000000474974513.\n",
      "\n",
      "Epoch 12: ReduceLROnPlateau reducing learning rate to 0.00010000000474974513.\n",
      "\n",
      "Epoch 22: ReduceLROnPlateau reducing learning rate to 1.0000000474974514e-05.\n",
      "\n",
      "Epoch 28: ReduceLROnPlateau reducing learning rate to 1.0000000656873453e-06.\n",
      "\n",
      "Epoch 34: ReduceLROnPlateau reducing learning rate to 1.0000001111620805e-07.\n",
      "\n",
      "Epoch 40: ReduceLROnPlateau reducing learning rate to 1.000000082740371e-08.\n",
      "\n",
      "Epoch 46: ReduceLROnPlateau reducing learning rate to 1.000000082740371e-09.\n",
      "\n",
      "Epoch 52: ReduceLROnPlateau reducing learning rate to 1.000000082740371e-10.\n",
      "model 1 success\n",
      "\n",
      "starting training model 2...\n",
      "\n",
      "Epoch 12: ReduceLROnPlateau reducing learning rate to 0.00010000000474974513.\n",
      "\n",
      "Epoch 12: ReduceLROnPlateau reducing learning rate to 0.00010000000474974513.\n",
      "\n",
      "Epoch 19: ReduceLROnPlateau reducing learning rate to 1.0000000474974514e-05.\n",
      "\n",
      "Epoch 33: ReduceLROnPlateau reducing learning rate to 1.0000000656873453e-06.\n",
      "\n",
      "Epoch 39: ReduceLROnPlateau reducing learning rate to 1.0000001111620805e-07.\n",
      "model 2 success\n",
      "\n",
      "starting training model 3...\n",
      "\n",
      "Epoch 9: ReduceLROnPlateau reducing learning rate to 0.00010000000474974513.\n",
      "\n",
      "Epoch 10: ReduceLROnPlateau reducing learning rate to 0.00010000000474974513.\n",
      "\n",
      "Epoch 19: ReduceLROnPlateau reducing learning rate to 1.0000000474974514e-05.\n",
      "model 3 success\n",
      "\n",
      "starting training model 4...\n",
      "\n",
      "Epoch 9: ReduceLROnPlateau reducing learning rate to 0.00010000000474974513.\n",
      "\n",
      "Epoch 20: ReduceLROnPlateau reducing learning rate to 1.0000000474974514e-05.\n",
      "\n",
      "Epoch 8: ReduceLROnPlateau reducing learning rate to 0.00010000000474974513.\n",
      "\n",
      "Epoch 18: ReduceLROnPlateau reducing learning rate to 1.0000000474974514e-05.\n",
      "\n",
      "Epoch 24: ReduceLROnPlateau reducing learning rate to 1.0000000656873453e-06.\n",
      "model 4 success\n",
      "\n",
      "starting training model 5...\n",
      "\n",
      "Epoch 15: ReduceLROnPlateau reducing learning rate to 0.00010000000474974513.\n",
      "\n",
      "Epoch 20: ReduceLROnPlateau reducing learning rate to 0.00010000000474974513.\n",
      "\n",
      "Epoch 27: ReduceLROnPlateau reducing learning rate to 1.0000000474974514e-05.\n",
      "\n",
      "Epoch 34: ReduceLROnPlateau reducing learning rate to 1.0000000656873453e-06.\n",
      "model 5 success\n",
      "\n",
      "starting training model 6...\n",
      "\n",
      "Epoch 13: ReduceLROnPlateau reducing learning rate to 0.00010000000474974513.\n",
      "\n",
      "Epoch 26: ReduceLROnPlateau reducing learning rate to 1.0000000474974514e-05.\n",
      "\n",
      "Epoch 9: ReduceLROnPlateau reducing learning rate to 0.00010000000474974513.\n",
      "\n",
      "Epoch 16: ReduceLROnPlateau reducing learning rate to 1.0000000474974514e-05.\n",
      "\n",
      "Epoch 22: ReduceLROnPlateau reducing learning rate to 1.0000000656873453e-06.\n",
      "model 6 success\n",
      "\n",
      "starting training model 7...\n",
      "\n",
      "Epoch 8: ReduceLROnPlateau reducing learning rate to 0.00010000000474974513.\n",
      "\n",
      "Epoch 16: ReduceLROnPlateau reducing learning rate to 0.00010000000474974513.\n",
      "\n",
      "Epoch 23: ReduceLROnPlateau reducing learning rate to 1.0000000474974514e-05.\n",
      "model 7 success\n",
      "\n",
      "starting training model 8...\n",
      "\n",
      "Epoch 16: ReduceLROnPlateau reducing learning rate to 0.00010000000474974513.\n"
     ]
    }
   ],
   "source": [
    "data_info = {\n",
    "    \"train_data_scheme\": \"topo2A_train\", \n",
    "    \"pt_normalization_type\": \"global_division\", \n",
    "    \"L1AD_rate\": 1000,\n",
    "    \"pt_thresholds\": [50, 20, 20, 20],\n",
    "    \"comments\": \"new L1AD model\"\n",
    "}\n",
    "\n",
    "training_info = {\n",
    "    \"save_path\": \"/eos/home-m/mmcohen/ad_trigger_development/trained_models/trial_109\", \n",
    "    \"dropout_p\": 0.1, \n",
    "    \"L2_reg_coupling\": 0.01, \n",
    "    \"latent_dim\": 4, \n",
    "    \"large_network\": True, \n",
    "    \"num_trainings\": 10,\n",
    "    \"training_weights\": True\n",
    "}\n",
    "\n",
    "datasets, data_info = ef.load_and_preprocess(**data_info)\n",
    "training_info, data_info = ef.train_multiple_models(datasets, data_info, **training_info)"
   ]
  },
  {
   "cell_type": "code",
   "execution_count": null,
   "id": "fba24f4e-09dd-4843-87b2-83f2012966a4",
   "metadata": {
    "scrolled": true
   },
   "outputs": [],
   "source": [
    "ef.process_multiple_models(\n",
    "    training_info=training_info,\n",
    "    data_info=data_info,\n",
    "    plots_path=training_info['save_path']+'/plots',\n",
    "    target_rate=target_rate,\n",
    "    L1AD_rate=L1AD_rate\n",
    ")"
   ]
  },
  {
   "cell_type": "markdown",
   "id": "22c6bf04-80e5-4f4b-a5e2-3811ad2ac00f",
   "metadata": {
    "jp-MarkdownHeadingCollapsed": true
   },
   "source": [
    "### Test ONNX"
   ]
  },
  {
   "cell_type": "code",
   "execution_count": 7,
   "id": "b26414c2-21d0-4cf1-a476-b2a53faa437f",
   "metadata": {},
   "outputs": [
    {
     "name": "stderr",
     "output_type": "stream",
     "text": [
      "Could not search for non-variable resources. Concrete function internal representation may have changed.\n",
      "2024-10-30 15:45:26.715362: I tensorflow/core/grappler/devices.cc:75] Number of eligible GPUs (core count >= 8, compute capability >= 0.0): 0 (Note: TensorFlow was not compiled with CUDA or ROCm support)\n",
      "2024-10-30 15:45:26.715559: I tensorflow/core/grappler/clusters/single_machine.cc:357] Starting new session\n",
      "2024-10-30 15:45:27.230193: I tensorflow/core/grappler/devices.cc:75] Number of eligible GPUs (core count >= 8, compute capability >= 0.0): 0 (Note: TensorFlow was not compiled with CUDA or ROCm support)\n",
      "2024-10-30 15:45:27.230453: I tensorflow/core/grappler/clusters/single_machine.cc:357] Starting new session\n"
     ]
    },
    {
     "name": "stdout",
     "output_type": "stream",
     "text": [
      "ONNX HLT_AE model saved to: ./trained_models/multiple_trainings/trial_2/onnx/HLT_AE_0.onnx\n"
     ]
    },
    {
     "name": "stderr",
     "output_type": "stream",
     "text": [
      "Could not search for non-variable resources. Concrete function internal representation may have changed.\n",
      "2024-10-30 15:45:29.812788: I tensorflow/core/grappler/devices.cc:75] Number of eligible GPUs (core count >= 8, compute capability >= 0.0): 0 (Note: TensorFlow was not compiled with CUDA or ROCm support)\n",
      "2024-10-30 15:45:29.812992: I tensorflow/core/grappler/clusters/single_machine.cc:357] Starting new session\n",
      "2024-10-30 15:45:30.345443: I tensorflow/core/grappler/devices.cc:75] Number of eligible GPUs (core count >= 8, compute capability >= 0.0): 0 (Note: TensorFlow was not compiled with CUDA or ROCm support)\n",
      "2024-10-30 15:45:30.345661: I tensorflow/core/grappler/clusters/single_machine.cc:357] Starting new session\n"
     ]
    },
    {
     "name": "stdout",
     "output_type": "stream",
     "text": [
      "ONNX L1_AE model saved to: ./trained_models/multiple_trainings/trial_2/onnx/L1_AE_0.onnx\n",
      "Loaded A14N23LO from ./h5_ntuples/A14N23LO.h5\n",
      "Loaded EB from ./h5_ntuples/EB.h5\n",
      "Loaded EB_test2 from ./h5_ntuples/EB_test2.h5\n",
      "Loaded EB_train from ./h5_ntuples/EB_train.h5\n",
      "Loaded HAHMggfZdZd2l2nu from ./h5_ntuples/HAHMggfZdZd2l2nu.h5\n",
      "Loaded HHbbttHadHad from ./h5_ntuples/HHbbttHadHad.h5\n",
      "Loaded HLT_noalg_eb_L1All from ./h5_ntuples/HLT_noalg_eb_L1All.h5\n",
      "Loaded ZZ4lep from ./h5_ntuples/ZZ4lep.h5\n",
      "Loaded Zprime2EJs from ./h5_ntuples/Zprime2EJs.h5\n",
      "Loaded jjJZ1 from ./h5_ntuples/jjJZ1.h5\n",
      "Loaded jjJZ2 from ./h5_ntuples/jjJZ2.h5\n",
      "Loaded jjJZ4 from ./h5_ntuples/jjJZ4.h5\n",
      "Loaded qqa from ./h5_ntuples/qqa.h5\n"
     ]
    }
   ],
   "source": [
    "training_info = {\n",
    "    \"save_path\": \"./trained_models/multiple_trainings/trial_2\", \n",
    "    \"dropout_p\": 0.1, \n",
    "    \"L2_reg_coupling\": 0.01, \n",
    "    \"latent_dim\": 4, \n",
    "    \"large_network\": True, \n",
    "    \"num_trainings\": 10,\n",
    "    \"training_weights\": True\n",
    "}\n",
    "\n",
    "data_info = {\n",
    "    \"train_data_scheme\": \n",
    "    \"topo2A_train+overlap\", \n",
    "    \"pt_normalization_type\": \n",
    "    \"global_division\", \n",
    "    \"L1AD_rate\": 1000\n",
    "}\n",
    "model_version=0\n",
    "ef.convert_to_onnx(training_info=training_info, model_version=model_version, object_type='HLT', save_dir='./trained_models/multiple_trainings/trial_2/onnx')\n",
    "ef.convert_to_onnx(training_info=training_info, model_version=model_version, object_type='L1', save_dir='./trained_models/multiple_trainings/trial_2/onnx')\n",
    "datasets, data_info = ef.load_and_preprocess(**data_info)\n",
    "datasets = ef.compare_tf_with_onnx(datasets=datasets, training_info=training_info, model_version=0, onnx_path='./trained_models/multiple_trainings/trial_2/onnx')"
   ]
  },
  {
   "cell_type": "code",
   "execution_count": 8,
   "id": "328a96a8-96f2-4714-b7ce-079282e725b0",
   "metadata": {
    "scrolled": true
   },
   "outputs": [
    {
     "name": "stdout",
     "output_type": "stream",
     "text": [
      "A14N23LO:\n",
      "    HLT_data: (10000, 48)\n",
      "    L1_data: (10000, 48)\n",
      "    passHLT: (10000,)\n",
      "    passL1: (10000,)\n",
      "    topo2A_AD_scores: (10000,)\n",
      "    weights: (10000,)\n",
      "    L1Seeded: (10000,)\n",
      "    HLT_model_outputs: (10000, 48)\n",
      "    L1_model_outputs: (10000, 48)\n",
      "    HLT_AD_scores: (10000,)\n",
      "    L1_AD_scores: (10000,)\n",
      "    ONNX_HLT_model_outputs: (10000, 48)\n",
      "    ONNX_L1_model_outputs: (10000, 48)\n",
      "    ONNX_HLT_AD_scores: (10000,)\n",
      "    ONNX_L1_AD_scores: (10000,)\n",
      "HAHMggfZdZd2l2nu:\n",
      "    HLT_data: (70000, 48)\n",
      "    L1_data: (70000, 48)\n",
      "    passHLT: (70000,)\n",
      "    passL1: (70000,)\n",
      "    topo2A_AD_scores: (70000,)\n",
      "    weights: (70000,)\n",
      "    L1Seeded: (70000,)\n",
      "    HLT_model_outputs: (70000, 48)\n",
      "    L1_model_outputs: (70000, 48)\n",
      "    HLT_AD_scores: (70000,)\n",
      "    L1_AD_scores: (70000,)\n",
      "    ONNX_HLT_model_outputs: (70000, 48)\n",
      "    ONNX_L1_model_outputs: (70000, 48)\n",
      "    ONNX_HLT_AD_scores: (70000,)\n",
      "    ONNX_L1_AD_scores: (70000,)\n",
      "HHbbttHadHad:\n",
      "    HLT_data: (100000, 48)\n",
      "    L1_data: (100000, 48)\n",
      "    passHLT: (100000,)\n",
      "    passL1: (100000,)\n",
      "    topo2A_AD_scores: (100000,)\n",
      "    weights: (100000,)\n",
      "    L1Seeded: (100000,)\n",
      "    HLT_model_outputs: (100000, 48)\n",
      "    L1_model_outputs: (100000, 48)\n",
      "    HLT_AD_scores: (100000,)\n",
      "    L1_AD_scores: (100000,)\n",
      "    ONNX_HLT_model_outputs: (100000, 48)\n",
      "    ONNX_L1_model_outputs: (100000, 48)\n",
      "    ONNX_HLT_AD_scores: (100000,)\n",
      "    ONNX_L1_AD_scores: (100000,)\n",
      "ZZ4lep:\n",
      "    HLT_data: (100000, 48)\n",
      "    L1_data: (100000, 48)\n",
      "    passHLT: (100000,)\n",
      "    passL1: (100000,)\n",
      "    topo2A_AD_scores: (100000,)\n",
      "    weights: (100000,)\n",
      "    L1Seeded: (100000,)\n",
      "    HLT_model_outputs: (100000, 48)\n",
      "    L1_model_outputs: (100000, 48)\n",
      "    HLT_AD_scores: (100000,)\n",
      "    L1_AD_scores: (100000,)\n",
      "    ONNX_HLT_model_outputs: (100000, 48)\n",
      "    ONNX_L1_model_outputs: (100000, 48)\n",
      "    ONNX_HLT_AD_scores: (100000,)\n",
      "    ONNX_L1_AD_scores: (100000,)\n",
      "Zprime2EJs:\n",
      "    HLT_data: (100000, 48)\n",
      "    L1_data: (100000, 48)\n",
      "    passHLT: (100000,)\n",
      "    passL1: (100000,)\n",
      "    topo2A_AD_scores: (100000,)\n",
      "    weights: (100000,)\n",
      "    L1Seeded: (100000,)\n",
      "    HLT_model_outputs: (100000, 48)\n",
      "    L1_model_outputs: (100000, 48)\n",
      "    HLT_AD_scores: (100000,)\n",
      "    L1_AD_scores: (100000,)\n",
      "    ONNX_HLT_model_outputs: (100000, 48)\n",
      "    ONNX_L1_model_outputs: (100000, 48)\n",
      "    ONNX_HLT_AD_scores: (100000,)\n",
      "    ONNX_L1_AD_scores: (100000,)\n",
      "jjJZ1:\n",
      "    HLT_data: (100000, 48)\n",
      "    L1_data: (100000, 48)\n",
      "    passHLT: (100000,)\n",
      "    passL1: (100000,)\n",
      "    topo2A_AD_scores: (100000,)\n",
      "    weights: (100000,)\n",
      "    L1Seeded: (100000,)\n",
      "    HLT_model_outputs: (100000, 48)\n",
      "    L1_model_outputs: (100000, 48)\n",
      "    HLT_AD_scores: (100000,)\n",
      "    L1_AD_scores: (100000,)\n",
      "    ONNX_HLT_model_outputs: (100000, 48)\n",
      "    ONNX_L1_model_outputs: (100000, 48)\n",
      "    ONNX_HLT_AD_scores: (100000,)\n",
      "    ONNX_L1_AD_scores: (100000,)\n",
      "jjJZ2:\n",
      "    HLT_data: (100000, 48)\n",
      "    L1_data: (100000, 48)\n",
      "    passHLT: (100000,)\n",
      "    passL1: (100000,)\n",
      "    topo2A_AD_scores: (100000,)\n",
      "    weights: (100000,)\n",
      "    L1Seeded: (100000,)\n",
      "    HLT_model_outputs: (100000, 48)\n",
      "    L1_model_outputs: (100000, 48)\n",
      "    HLT_AD_scores: (100000,)\n",
      "    L1_AD_scores: (100000,)\n",
      "    ONNX_HLT_model_outputs: (100000, 48)\n",
      "    ONNX_L1_model_outputs: (100000, 48)\n",
      "    ONNX_HLT_AD_scores: (100000,)\n",
      "    ONNX_L1_AD_scores: (100000,)\n",
      "jjJZ4:\n",
      "    HLT_data: (100000, 48)\n",
      "    L1_data: (100000, 48)\n",
      "    passHLT: (100000,)\n",
      "    passL1: (100000,)\n",
      "    topo2A_AD_scores: (100000,)\n",
      "    weights: (100000,)\n",
      "    L1Seeded: (100000,)\n",
      "    HLT_model_outputs: (100000, 48)\n",
      "    L1_model_outputs: (100000, 48)\n",
      "    HLT_AD_scores: (100000,)\n",
      "    L1_AD_scores: (100000,)\n",
      "    ONNX_HLT_model_outputs: (100000, 48)\n",
      "    ONNX_L1_model_outputs: (100000, 48)\n",
      "    ONNX_HLT_AD_scores: (100000,)\n",
      "    ONNX_L1_AD_scores: (100000,)\n",
      "qqa:\n",
      "    HLT_data: (50000, 48)\n",
      "    L1_data: (50000, 48)\n",
      "    passHLT: (50000,)\n",
      "    passL1: (50000,)\n",
      "    topo2A_AD_scores: (50000,)\n",
      "    weights: (50000,)\n",
      "    L1Seeded: (50000,)\n",
      "    HLT_model_outputs: (50000, 48)\n",
      "    L1_model_outputs: (50000, 48)\n",
      "    HLT_AD_scores: (50000,)\n",
      "    L1_AD_scores: (50000,)\n",
      "    ONNX_HLT_model_outputs: (50000, 48)\n",
      "    ONNX_L1_model_outputs: (50000, 48)\n",
      "    ONNX_HLT_AD_scores: (50000,)\n",
      "    ONNX_L1_AD_scores: (50000,)\n",
      "EB_test:\n",
      "    HLT_data: (509167, 48)\n",
      "    L1_data: (509167, 48)\n",
      "    event_numbers: (509167,)\n",
      "    passHLT: (509167,)\n",
      "    passL1: (509167,)\n",
      "    pileups: (509167,)\n",
      "    run_numbers: (509167,)\n",
      "    topo2A_AD_scores: (509167,)\n",
      "    weights: (509167,)\n",
      "    L1Seeded: (509167,)\n",
      "    HLT_model_outputs: (509167, 48)\n",
      "    L1_model_outputs: (509167, 48)\n",
      "    HLT_AD_scores: (509167,)\n",
      "    L1_AD_scores: (509167,)\n",
      "    ONNX_HLT_model_outputs: (509167, 48)\n",
      "    ONNX_L1_model_outputs: (509167, 48)\n",
      "    ONNX_HLT_AD_scores: (509167,)\n",
      "    ONNX_L1_AD_scores: (509167,)\n",
      "EB_train:\n",
      "    HLT_data: (1493152, 48)\n",
      "    L1_data: (1493152, 48)\n",
      "    event_numbers: (1493152,)\n",
      "    passHLT: (1493152,)\n",
      "    passL1: (1493152,)\n",
      "    pileups: (1493152,)\n",
      "    run_numbers: (1493152,)\n",
      "    topo2A_AD_scores: (1493152,)\n",
      "    weights: (1493152,)\n",
      "    L1Seeded: (1493152,)\n",
      "EB_val:\n",
      "    HLT_data: (263498, 48)\n",
      "    L1_data: (263498, 48)\n",
      "    event_numbers: (263498,)\n",
      "    passHLT: (263498,)\n",
      "    passL1: (263498,)\n",
      "    pileups: (263498,)\n",
      "    run_numbers: (263498,)\n",
      "    topo2A_AD_scores: (263498,)\n",
      "    weights: (263498,)\n",
      "    L1Seeded: (263498,)\n"
     ]
    }
   ],
   "source": [
    "for tag, data_dict in datasets.items():\n",
    "    print(f'{tag}:')\n",
    "    for key, value in data_dict.items():\n",
    "        print(f'    {key}: {value.shape}')"
   ]
  },
  {
   "cell_type": "code",
   "execution_count": 9,
   "id": "e5f166e0-967b-4beb-9593-c0aea74b474a",
   "metadata": {},
   "outputs": [
    {
     "name": "stdout",
     "output_type": "stream",
     "text": [
      "[1.62544931 1.92602879 1.33561259 0.         1.06108748]\n",
      "\n",
      "[1.62544931 1.92602879 1.33561259 0.         1.06108748]\n"
     ]
    }
   ],
   "source": [
    "print(datasets['EB_test']['HLT_AD_scores'][0:5])\n",
    "print()\n",
    "print(datasets['EB_test']['ONNX_HLT_AD_scores'][0:5])"
   ]
  },
  {
   "cell_type": "code",
   "execution_count": null,
   "id": "b706dfe9-b68b-453f-a6cf-4a21d13c02e6",
   "metadata": {},
   "outputs": [],
   "source": [
    "# Success! These AD scores are the same."
   ]
  },
  {
   "cell_type": "code",
   "execution_count": null,
   "id": "82862401-2967-4b3a-bcf0-d5e09957cde0",
   "metadata": {},
   "outputs": [],
   "source": []
  },
  {
   "cell_type": "markdown",
   "id": "79e5252c-3006-4bcf-9afc-e1ef3cf996cc",
   "metadata": {
    "jp-MarkdownHeadingCollapsed": true
   },
   "source": [
    "### save raw data, latent reps, AD scores for additional studies"
   ]
  },
  {
   "cell_type": "code",
   "execution_count": 5,
   "id": "f8511137-fa7c-45cf-b05f-1eeb919f84b1",
   "metadata": {},
   "outputs": [
    {
     "name": "stdout",
     "output_type": "stream",
     "text": [
      "Loaded A14N23LO from /eos/home-m/mmcohen/ad_trigger_development/data/loaded_and_matched_ntuples/11-14-2024/A14N23LO.h5\n",
      "Loaded EB_473255 from /eos/home-m/mmcohen/ad_trigger_development/data/loaded_and_matched_ntuples/11-14-2024/EB_473255.h5\n",
      "Loaded EB_475321 from /eos/home-m/mmcohen/ad_trigger_development/data/loaded_and_matched_ntuples/11-14-2024/EB_475321.h5\n",
      "Loaded EB_482596 from /eos/home-m/mmcohen/ad_trigger_development/data/loaded_and_matched_ntuples/11-14-2024/EB_482596.h5\n",
      "Loaded HAHMggfZdZd2l2nu from /eos/home-m/mmcohen/ad_trigger_development/data/loaded_and_matched_ntuples/11-14-2024/HAHMggfZdZd2l2nu.h5\n",
      "Loaded HHbbttHadHad from /eos/home-m/mmcohen/ad_trigger_development/data/loaded_and_matched_ntuples/11-14-2024/HHbbttHadHad.h5\n",
      "Loaded HLT_noalg_eb_L1All from /eos/home-m/mmcohen/ad_trigger_development/data/loaded_and_matched_ntuples/11-14-2024/HLT_noalg_eb_L1All.h5\n",
      "Loaded ZZ4lep from /eos/home-m/mmcohen/ad_trigger_development/data/loaded_and_matched_ntuples/11-14-2024/ZZ4lep.h5\n",
      "Loaded Zprime2EJs from /eos/home-m/mmcohen/ad_trigger_development/data/loaded_and_matched_ntuples/11-14-2024/Zprime2EJs.h5\n",
      "Loaded jjJZ1 from /eos/home-m/mmcohen/ad_trigger_development/data/loaded_and_matched_ntuples/11-14-2024/jjJZ1.h5\n",
      "Loaded jjJZ2 from /eos/home-m/mmcohen/ad_trigger_development/data/loaded_and_matched_ntuples/11-14-2024/jjJZ2.h5\n",
      "Loaded jjJZ4 from /eos/home-m/mmcohen/ad_trigger_development/data/loaded_and_matched_ntuples/11-14-2024/jjJZ4.h5\n",
      "Loaded qqa from /eos/home-m/mmcohen/ad_trigger_development/data/loaded_and_matched_ntuples/11-14-2024/qqa.h5\n",
      "Loaded topo2A_train from /eos/home-m/mmcohen/ad_trigger_development/data/loaded_and_matched_ntuples/11-14-2024/topo2A_train.h5\n",
      "Saved A14N23LO to /eos/home-m/mmcohen/ntuples/dataset_with_AD_scores/A14N23LO.h5\n",
      "Saved HAHMggfZdZd2l2nu to /eos/home-m/mmcohen/ntuples/dataset_with_AD_scores/HAHMggfZdZd2l2nu.h5\n",
      "Saved HHbbttHadHad to /eos/home-m/mmcohen/ntuples/dataset_with_AD_scores/HHbbttHadHad.h5\n",
      "Saved HLT_noalg_eb_L1All to /eos/home-m/mmcohen/ntuples/dataset_with_AD_scores/HLT_noalg_eb_L1All.h5\n",
      "Saved ZZ4lep to /eos/home-m/mmcohen/ntuples/dataset_with_AD_scores/ZZ4lep.h5\n",
      "Saved Zprime2EJs to /eos/home-m/mmcohen/ntuples/dataset_with_AD_scores/Zprime2EJs.h5\n",
      "Saved jjJZ1 to /eos/home-m/mmcohen/ntuples/dataset_with_AD_scores/jjJZ1.h5\n",
      "Saved jjJZ2 to /eos/home-m/mmcohen/ntuples/dataset_with_AD_scores/jjJZ2.h5\n",
      "Saved jjJZ4 to /eos/home-m/mmcohen/ntuples/dataset_with_AD_scores/jjJZ4.h5\n",
      "Saved qqa to /eos/home-m/mmcohen/ntuples/dataset_with_AD_scores/qqa.h5\n",
      "Saved EB_train to /eos/home-m/mmcohen/ntuples/dataset_with_AD_scores/EB_train.h5\n",
      "Saved EB_test to /eos/home-m/mmcohen/ntuples/dataset_with_AD_scores/EB_test.h5\n",
      "Saved EB_val to /eos/home-m/mmcohen/ntuples/dataset_with_AD_scores/EB_val.h5\n"
     ]
    }
   ],
   "source": [
    "data_info = {\n",
    "    \"train_data_scheme\": \"topo2A_train\", \n",
    "    \"pt_normalization_type\": \"global_division\", \n",
    "    \"L1AD_rate\": 1000,\n",
    "    \"pt_thresholds\": [50, 20, 20, 20],\n",
    "    \"comments\": \"new L1AD model\"\n",
    "}\n",
    "\n",
    "training_info = {\n",
    "    \"save_path\": \"/eos/home-m/mmcohen/ad_trigger_development/trained_models/trial_109\", \n",
    "    \"dropout_p\": 0.1, \n",
    "    \"L2_reg_coupling\": 0.01, \n",
    "    \"latent_dim\": 4, \n",
    "    \"large_network\": True, \n",
    "    \"num_trainings\": 10,\n",
    "    \"training_weights\": True\n",
    "}\n",
    "\n",
    "datasets, data_info = ef.load_and_preprocess(**data_info)\n",
    "ef.save_datasets_with_AD_scores(datasets, training_info=training_info, save_dir='/eos/home-m/mmcohen/ntuples/dataset_with_AD_scores')"
   ]
  },
  {
   "cell_type": "code",
   "execution_count": 4,
   "id": "57f439bf-75ca-477b-b5d2-4a14d5e1bff8",
   "metadata": {},
   "outputs": [
    {
     "name": "stdout",
     "output_type": "stream",
     "text": [
      "Loaded A14N23LO from /eos/home-m/mmcohen/ntuples/dataset_with_AD_scores/A14N23LO.h5\n",
      "Loaded EB_test from /eos/home-m/mmcohen/ntuples/dataset_with_AD_scores/EB_test.h5\n",
      "Loaded EB_train from /eos/home-m/mmcohen/ntuples/dataset_with_AD_scores/EB_train.h5\n",
      "Loaded EB_val from /eos/home-m/mmcohen/ntuples/dataset_with_AD_scores/EB_val.h5\n",
      "Loaded HAHMggfZdZd2l2nu from /eos/home-m/mmcohen/ntuples/dataset_with_AD_scores/HAHMggfZdZd2l2nu.h5\n",
      "Loaded HHbbttHadHad from /eos/home-m/mmcohen/ntuples/dataset_with_AD_scores/HHbbttHadHad.h5\n",
      "Loaded HLT_noalg_eb_L1All from /eos/home-m/mmcohen/ntuples/dataset_with_AD_scores/HLT_noalg_eb_L1All.h5\n",
      "Loaded ZZ4lep from /eos/home-m/mmcohen/ntuples/dataset_with_AD_scores/ZZ4lep.h5\n",
      "Loaded Zprime2EJs from /eos/home-m/mmcohen/ntuples/dataset_with_AD_scores/Zprime2EJs.h5\n",
      "Loaded jjJZ1 from /eos/home-m/mmcohen/ntuples/dataset_with_AD_scores/jjJZ1.h5\n",
      "Loaded jjJZ2 from /eos/home-m/mmcohen/ntuples/dataset_with_AD_scores/jjJZ2.h5\n",
      "Loaded jjJZ4 from /eos/home-m/mmcohen/ntuples/dataset_with_AD_scores/jjJZ4.h5\n",
      "Loaded qqa from /eos/home-m/mmcohen/ntuples/dataset_with_AD_scores/qqa.h5\n",
      "A14N23LO:\n",
      "    HLT_AD_scores: (10000,)\n",
      "    HLT_data: (10000, 48)\n",
      "    HLT_latent_reps: (10000, 4)\n",
      "    HLT_model_outputs: (10000, 48)\n",
      "    L1Seeded: (10000,)\n",
      "    L1_AD_scores: (10000,)\n",
      "    L1_data: (10000, 48)\n",
      "    L1_latent_reps: (10000, 4)\n",
      "    L1_model_outputs: (10000, 48)\n",
      "    passHLT: (10000,)\n",
      "    passL1: (10000,)\n",
      "    raw_HLT_data: (10000, 48)\n",
      "    topo2A_AD_scores: (10000,)\n",
      "    weights: (10000,)\n",
      "EB_test:\n",
      "    HLT_AD_scores: (1560064,)\n",
      "    HLT_data: (1560064, 48)\n",
      "    HLT_latent_reps: (1560064, 4)\n",
      "    HLT_model_outputs: (1560064, 48)\n",
      "    L1Seeded: (1560064,)\n",
      "    L1_AD_scores: (1560064,)\n",
      "    L1_data: (1560064, 48)\n",
      "    L1_latent_reps: (1560064, 4)\n",
      "    L1_model_outputs: (1560064, 48)\n",
      "    event_numbers: (1560064,)\n",
      "    passHLT: (1560064,)\n",
      "    passL1: (1560064,)\n",
      "    pileups: (1560064,)\n",
      "    raw_HLT_data: (1560064, 48)\n",
      "    run_numbers: (1560064,)\n",
      "    topo2A_AD_scores: (1560064,)\n",
      "    weights: (1560064,)\n",
      "EB_train:\n",
      "    HLT_data: (1490934, 48)\n",
      "    L1Seeded: (1490934,)\n",
      "    L1_data: (1490934, 48)\n",
      "    event_numbers: (1490934,)\n",
      "    passHLT: (1490934,)\n",
      "    passL1: (1490934,)\n",
      "    pileups: (1490934,)\n",
      "    raw_HLT_data: (1490934, 48)\n",
      "    run_numbers: (1490934,)\n",
      "    topo2A_AD_scores: (1490934,)\n",
      "    weights: (1490934,)\n",
      "EB_val:\n",
      "    HLT_data: (263107, 48)\n",
      "    L1Seeded: (263107,)\n",
      "    L1_data: (263107, 48)\n",
      "    event_numbers: (263107,)\n",
      "    passHLT: (263107,)\n",
      "    passL1: (263107,)\n",
      "    pileups: (263107,)\n",
      "    raw_HLT_data: (263107, 48)\n",
      "    run_numbers: (263107,)\n",
      "    topo2A_AD_scores: (263107,)\n",
      "    weights: (263107,)\n",
      "HAHMggfZdZd2l2nu:\n",
      "    HLT_AD_scores: (70000,)\n",
      "    HLT_data: (70000, 48)\n",
      "    HLT_latent_reps: (70000, 4)\n",
      "    HLT_model_outputs: (70000, 48)\n",
      "    L1Seeded: (70000,)\n",
      "    L1_AD_scores: (70000,)\n",
      "    L1_data: (70000, 48)\n",
      "    L1_latent_reps: (70000, 4)\n",
      "    L1_model_outputs: (70000, 48)\n",
      "    passHLT: (70000,)\n",
      "    passL1: (70000,)\n",
      "    raw_HLT_data: (70000, 48)\n",
      "    topo2A_AD_scores: (70000,)\n",
      "    weights: (70000,)\n",
      "HHbbttHadHad:\n",
      "    HLT_AD_scores: (100000,)\n",
      "    HLT_data: (100000, 48)\n",
      "    HLT_latent_reps: (100000, 4)\n",
      "    HLT_model_outputs: (100000, 48)\n",
      "    L1Seeded: (100000,)\n",
      "    L1_AD_scores: (100000,)\n",
      "    L1_data: (100000, 48)\n",
      "    L1_latent_reps: (100000, 4)\n",
      "    L1_model_outputs: (100000, 48)\n",
      "    passHLT: (100000,)\n",
      "    passL1: (100000,)\n",
      "    raw_HLT_data: (100000, 48)\n",
      "    topo2A_AD_scores: (100000,)\n",
      "    weights: (100000,)\n",
      "HLT_noalg_eb_L1All:\n",
      "    HLT_AD_scores: (1107321,)\n",
      "    HLT_data: (1107321, 48)\n",
      "    HLT_latent_reps: (1107321, 4)\n",
      "    HLT_model_outputs: (1107321, 48)\n",
      "    L1Seeded: (1107321,)\n",
      "    L1_AD_scores: (1107321,)\n",
      "    L1_data: (1107321, 48)\n",
      "    L1_latent_reps: (1107321, 4)\n",
      "    L1_model_outputs: (1107321, 48)\n",
      "    event_numbers: (1107321,)\n",
      "    passHLT: (1107321,)\n",
      "    passL1: (1107321,)\n",
      "    pileups: (1107321,)\n",
      "    raw_HLT_data: (1107321, 48)\n",
      "    run_numbers: (1107321,)\n",
      "    topo2A_AD_scores: (1107321,)\n",
      "    weights: (1107321,)\n",
      "ZZ4lep:\n",
      "    HLT_AD_scores: (100000,)\n",
      "    HLT_data: (100000, 48)\n",
      "    HLT_latent_reps: (100000, 4)\n",
      "    HLT_model_outputs: (100000, 48)\n",
      "    L1Seeded: (100000,)\n",
      "    L1_AD_scores: (100000,)\n",
      "    L1_data: (100000, 48)\n",
      "    L1_latent_reps: (100000, 4)\n",
      "    L1_model_outputs: (100000, 48)\n",
      "    passHLT: (100000,)\n",
      "    passL1: (100000,)\n",
      "    raw_HLT_data: (100000, 48)\n",
      "    topo2A_AD_scores: (100000,)\n",
      "    weights: (100000,)\n",
      "Zprime2EJs:\n",
      "    HLT_AD_scores: (100000,)\n",
      "    HLT_data: (100000, 48)\n",
      "    HLT_latent_reps: (100000, 4)\n",
      "    HLT_model_outputs: (100000, 48)\n",
      "    L1Seeded: (100000,)\n",
      "    L1_AD_scores: (100000,)\n",
      "    L1_data: (100000, 48)\n",
      "    L1_latent_reps: (100000, 4)\n",
      "    L1_model_outputs: (100000, 48)\n",
      "    passHLT: (100000,)\n",
      "    passL1: (100000,)\n",
      "    raw_HLT_data: (100000, 48)\n",
      "    topo2A_AD_scores: (100000,)\n",
      "    weights: (100000,)\n",
      "jjJZ1:\n",
      "    HLT_AD_scores: (100000,)\n",
      "    HLT_data: (100000, 48)\n",
      "    HLT_latent_reps: (100000, 4)\n",
      "    HLT_model_outputs: (100000, 48)\n",
      "    L1Seeded: (100000,)\n",
      "    L1_AD_scores: (100000,)\n",
      "    L1_data: (100000, 48)\n",
      "    L1_latent_reps: (100000, 4)\n",
      "    L1_model_outputs: (100000, 48)\n",
      "    passHLT: (100000,)\n",
      "    passL1: (100000,)\n",
      "    raw_HLT_data: (100000, 48)\n",
      "    topo2A_AD_scores: (100000,)\n",
      "    weights: (100000,)\n",
      "jjJZ2:\n",
      "    HLT_AD_scores: (100000,)\n",
      "    HLT_data: (100000, 48)\n",
      "    HLT_latent_reps: (100000, 4)\n",
      "    HLT_model_outputs: (100000, 48)\n",
      "    L1Seeded: (100000,)\n",
      "    L1_AD_scores: (100000,)\n",
      "    L1_data: (100000, 48)\n",
      "    L1_latent_reps: (100000, 4)\n",
      "    L1_model_outputs: (100000, 48)\n",
      "    passHLT: (100000,)\n",
      "    passL1: (100000,)\n",
      "    raw_HLT_data: (100000, 48)\n",
      "    topo2A_AD_scores: (100000,)\n",
      "    weights: (100000,)\n",
      "jjJZ4:\n",
      "    HLT_AD_scores: (100000,)\n",
      "    HLT_data: (100000, 48)\n",
      "    HLT_latent_reps: (100000, 4)\n",
      "    HLT_model_outputs: (100000, 48)\n",
      "    L1Seeded: (100000,)\n",
      "    L1_AD_scores: (100000,)\n",
      "    L1_data: (100000, 48)\n",
      "    L1_latent_reps: (100000, 4)\n",
      "    L1_model_outputs: (100000, 48)\n",
      "    passHLT: (100000,)\n",
      "    passL1: (100000,)\n",
      "    raw_HLT_data: (100000, 48)\n",
      "    topo2A_AD_scores: (100000,)\n",
      "    weights: (100000,)\n",
      "qqa:\n",
      "    HLT_AD_scores: (50000,)\n",
      "    HLT_data: (50000, 48)\n",
      "    HLT_latent_reps: (50000, 4)\n",
      "    HLT_model_outputs: (50000, 48)\n",
      "    L1Seeded: (50000,)\n",
      "    L1_AD_scores: (50000,)\n",
      "    L1_data: (50000, 48)\n",
      "    L1_latent_reps: (50000, 4)\n",
      "    L1_model_outputs: (50000, 48)\n",
      "    passHLT: (50000,)\n",
      "    passL1: (50000,)\n",
      "    raw_HLT_data: (50000, 48)\n",
      "    topo2A_AD_scores: (50000,)\n",
      "    weights: (50000,)\n"
     ]
    }
   ],
   "source": [
    "def load_subdicts_from_h5(save_dir):\n",
    "    \"\"\"\n",
    "    Loads sub-dictionaries of NumPy arrays from HDF5 files in a directory and reconstructs the original structure.\n",
    "    \n",
    "    Args:\n",
    "        save_dir (str): The directory where the HDF5 files are stored.\n",
    "    \n",
    "    Returns:\n",
    "        main_dict (dict): A dictionary of dictionaries where the innermost values are NumPy arrays.\n",
    "    \"\"\"\n",
    "    main_dict = {}\n",
    "    \n",
    "    for filename in os.listdir(save_dir):\n",
    "        if filename.endswith(\".h5\"):\n",
    "            sub_dict_name = os.path.splitext(filename)[0]\n",
    "            file_path = os.path.join(save_dir, filename)\n",
    "            with h5py.File(file_path, 'r') as f:\n",
    "                sub_dict = {key: np.array(f[key]) for key in f}\n",
    "            main_dict[sub_dict_name] = sub_dict\n",
    "            print(f\"Loaded {sub_dict_name} from {file_path}\")\n",
    "    \n",
    "    return main_dict\n",
    "\n",
    "datasets = load_subdicts_from_h5('/eos/home-m/mmcohen/ntuples/dataset_with_AD_scores')\n",
    "for tag, data_dict in datasets.items():\n",
    "    print(f'{tag}:')\n",
    "    for key, value in data_dict.items():\n",
    "        print(f'    {key}: {value.shape}')"
   ]
  },
  {
   "cell_type": "code",
   "execution_count": null,
   "id": "bfab467f-45f9-4c46-b5b6-5399583c1061",
   "metadata": {},
   "outputs": [],
   "source": []
  },
  {
   "cell_type": "markdown",
   "id": "4a23bff5-d5ce-4149-a1ff-f7c16be38f47",
   "metadata": {},
   "source": [
    "### Compare two versions"
   ]
  },
  {
   "cell_type": "code",
   "execution_count": null,
   "id": "c0c342f6-1cbb-41be-825a-5fcb31d19ba9",
   "metadata": {},
   "outputs": [
    {
     "name": "stdout",
     "output_type": "stream",
     "text": [
      "powering on... preparing to run evals\n",
      "Loaded A14N23LO from /eos/home-m/mmcohen/ad_trigger_development/data/loaded_and_matched_ntuples/12-13-2024/A14N23LO.h5\n",
      "Loaded EB_473255 from /eos/home-m/mmcohen/ad_trigger_development/data/loaded_and_matched_ntuples/12-13-2024/EB_473255.h5\n",
      "Loaded EB_475321 from /eos/home-m/mmcohen/ad_trigger_development/data/loaded_and_matched_ntuples/12-13-2024/EB_475321.h5\n",
      "Loaded EB_482596 from /eos/home-m/mmcohen/ad_trigger_development/data/loaded_and_matched_ntuples/12-13-2024/EB_482596.h5\n",
      "Loaded HAHMggfZdZd2l2nu from /eos/home-m/mmcohen/ad_trigger_development/data/loaded_and_matched_ntuples/12-13-2024/HAHMggfZdZd2l2nu.h5\n",
      "Loaded HHbbttHadHad from /eos/home-m/mmcohen/ad_trigger_development/data/loaded_and_matched_ntuples/12-13-2024/HHbbttHadHad.h5\n",
      "Loaded HLT_noalg_eb_L1All from /eos/home-m/mmcohen/ad_trigger_development/data/loaded_and_matched_ntuples/12-13-2024/HLT_noalg_eb_L1All.h5\n",
      "Loaded ZZ4lep from /eos/home-m/mmcohen/ad_trigger_development/data/loaded_and_matched_ntuples/12-13-2024/ZZ4lep.h5\n",
      "Loaded Zprime2EJs from /eos/home-m/mmcohen/ad_trigger_development/data/loaded_and_matched_ntuples/12-13-2024/Zprime2EJs.h5\n",
      "Loaded jjJZ1 from /eos/home-m/mmcohen/ad_trigger_development/data/loaded_and_matched_ntuples/12-13-2024/jjJZ1.h5\n",
      "Loaded jjJZ2 from /eos/home-m/mmcohen/ad_trigger_development/data/loaded_and_matched_ntuples/12-13-2024/jjJZ2.h5\n",
      "Loaded jjJZ4 from /eos/home-m/mmcohen/ad_trigger_development/data/loaded_and_matched_ntuples/12-13-2024/jjJZ4.h5\n",
      "Loaded mc23e_ChiPlusChiMinus100_99_0p3ns from /eos/home-m/mmcohen/ad_trigger_development/data/loaded_and_matched_ntuples/12-13-2024/mc23e_ChiPlusChiMinus100_99_0p3ns.h5\n",
      "Loaded mc23e_ChiPlusChiMinus500_40_10ns from /eos/home-m/mmcohen/ad_trigger_development/data/loaded_and_matched_ntuples/12-13-2024/mc23e_ChiPlusChiMinus500_40_10ns.h5\n",
      "Loaded mc23e_HAHMggf from /eos/home-m/mmcohen/ad_trigger_development/data/loaded_and_matched_ntuples/12-13-2024/mc23e_HAHMggf.h5\n",
      "Loaded mc23e_HNLeemu from /eos/home-m/mmcohen/ad_trigger_development/data/loaded_and_matched_ntuples/12-13-2024/mc23e_HNLeemu.h5\n",
      "Loaded mc23e_RS_G_hh_bbbb_AutoWidth_c10_M300 from /eos/home-m/mmcohen/ad_trigger_development/data/loaded_and_matched_ntuples/12-13-2024/mc23e_RS_G_hh_bbbb_AutoWidth_c10_M300.h5\n",
      "Loaded mc23e_ZZ4lep from /eos/home-m/mmcohen/ad_trigger_development/data/loaded_and_matched_ntuples/12-13-2024/mc23e_ZZ4lep.h5\n",
      "Loaded mc23e_jjJZ2 from /eos/home-m/mmcohen/ad_trigger_development/data/loaded_and_matched_ntuples/12-13-2024/mc23e_jjJZ2.h5\n",
      "Loaded mc23e_jjJZ4 from /eos/home-m/mmcohen/ad_trigger_development/data/loaded_and_matched_ntuples/12-13-2024/mc23e_jjJZ4.h5\n",
      "Loaded mc23e_ttbar_1lep from /eos/home-m/mmcohen/ad_trigger_development/data/loaded_and_matched_ntuples/12-13-2024/mc23e_ttbar_1lep.h5\n",
      "Loaded mc23e_ttbar_2lep from /eos/home-m/mmcohen/ad_trigger_development/data/loaded_and_matched_ntuples/12-13-2024/mc23e_ttbar_2lep.h5\n",
      "Loaded qqa from /eos/home-m/mmcohen/ad_trigger_development/data/loaded_and_matched_ntuples/12-13-2024/qqa.h5\n",
      "Loaded topo2A_train from /eos/home-m/mmcohen/ad_trigger_development/data/loaded_and_matched_ntuples/12-13-2024/topo2A_train.h5\n",
      "evals phase 1 of 2 initiated.\n",
      "phase 1: starting evals of model 0...\n",
      "HLTAD threshold: 6.489297334695301\n"
     ]
    },
    {
     "name": "stderr",
     "output_type": "stream",
     "text": [
      "/eos/home-i03/m/mmcohen/ad_trigger_development/src/AD_trigger_training/HLTAD/ensembler_functions.py:191: RuntimeWarning: invalid value encountered in double_scalars\n",
      "  gain = (combined - hlt) / hlt\n",
      "/eos/home-i03/m/mmcohen/ad_trigger_development/src/AD_trigger_training/HLTAD/ensembler_functions.py:237: UserWarning: Tight layout not applied. The left and right margins cannot be made large enough to accommodate all axes decorations.\n",
      "  plt.tight_layout()\n"
     ]
    },
    {
     "name": "stdout",
     "output_type": "stream",
     "text": [
      "HLTAD threshold: 2.9852789337229524\n"
     ]
    },
    {
     "name": "stderr",
     "output_type": "stream",
     "text": [
      "/eos/home-i03/m/mmcohen/ad_trigger_development/src/AD_trigger_training/HLTAD/ensembler_functions.py:191: RuntimeWarning: invalid value encountered in double_scalars\n",
      "  gain = (combined - hlt) / hlt\n",
      "/eos/home-i03/m/mmcohen/ad_trigger_development/src/AD_trigger_training/HLTAD/ensembler_functions.py:237: UserWarning: Tight layout not applied. The left and right margins cannot be made large enough to accommodate all axes decorations.\n",
      "  plt.tight_layout()\n"
     ]
    },
    {
     "name": "stdout",
     "output_type": "stream",
     "text": [
      "phase 1: starting evals of model 1...\n",
      "HLTAD threshold: 6.844510358578567\n"
     ]
    },
    {
     "name": "stderr",
     "output_type": "stream",
     "text": [
      "/eos/home-i03/m/mmcohen/ad_trigger_development/src/AD_trigger_training/HLTAD/ensembler_functions.py:191: RuntimeWarning: invalid value encountered in double_scalars\n",
      "  gain = (combined - hlt) / hlt\n",
      "/eos/home-i03/m/mmcohen/ad_trigger_development/src/AD_trigger_training/HLTAD/ensembler_functions.py:237: UserWarning: Tight layout not applied. The left and right margins cannot be made large enough to accommodate all axes decorations.\n",
      "  plt.tight_layout()\n"
     ]
    },
    {
     "name": "stdout",
     "output_type": "stream",
     "text": [
      "HLTAD threshold: 2.8790928290657174\n"
     ]
    },
    {
     "name": "stderr",
     "output_type": "stream",
     "text": [
      "/eos/home-i03/m/mmcohen/ad_trigger_development/src/AD_trigger_training/HLTAD/ensembler_functions.py:191: RuntimeWarning: invalid value encountered in double_scalars\n",
      "  gain = (combined - hlt) / hlt\n",
      "/eos/home-i03/m/mmcohen/ad_trigger_development/src/AD_trigger_training/HLTAD/ensembler_functions.py:237: UserWarning: Tight layout not applied. The left and right margins cannot be made large enough to accommodate all axes decorations.\n",
      "  plt.tight_layout()\n"
     ]
    },
    {
     "name": "stdout",
     "output_type": "stream",
     "text": [
      "phase 1: starting evals of model 2...\n",
      "HLTAD threshold: 6.893164829015889\n"
     ]
    },
    {
     "name": "stderr",
     "output_type": "stream",
     "text": [
      "/eos/home-i03/m/mmcohen/ad_trigger_development/src/AD_trigger_training/HLTAD/ensembler_functions.py:191: RuntimeWarning: invalid value encountered in double_scalars\n",
      "  gain = (combined - hlt) / hlt\n",
      "/eos/home-i03/m/mmcohen/ad_trigger_development/src/AD_trigger_training/HLTAD/ensembler_functions.py:237: UserWarning: Tight layout not applied. The left and right margins cannot be made large enough to accommodate all axes decorations.\n",
      "  plt.tight_layout()\n"
     ]
    },
    {
     "name": "stdout",
     "output_type": "stream",
     "text": [
      "HLTAD threshold: 3.1887719244707062\n"
     ]
    },
    {
     "name": "stderr",
     "output_type": "stream",
     "text": [
      "/eos/home-i03/m/mmcohen/ad_trigger_development/src/AD_trigger_training/HLTAD/ensembler_functions.py:191: RuntimeWarning: invalid value encountered in double_scalars\n",
      "  gain = (combined - hlt) / hlt\n",
      "/eos/home-i03/m/mmcohen/ad_trigger_development/src/AD_trigger_training/HLTAD/ensembler_functions.py:237: UserWarning: Tight layout not applied. The left and right margins cannot be made large enough to accommodate all axes decorations.\n",
      "  plt.tight_layout()\n"
     ]
    },
    {
     "name": "stdout",
     "output_type": "stream",
     "text": [
      "phase 1: starting evals of model 3...\n",
      "HLTAD threshold: 6.834687395230393\n"
     ]
    },
    {
     "name": "stderr",
     "output_type": "stream",
     "text": [
      "/eos/home-i03/m/mmcohen/ad_trigger_development/src/AD_trigger_training/HLTAD/ensembler_functions.py:191: RuntimeWarning: invalid value encountered in double_scalars\n",
      "  gain = (combined - hlt) / hlt\n",
      "/eos/home-i03/m/mmcohen/ad_trigger_development/src/AD_trigger_training/HLTAD/ensembler_functions.py:237: UserWarning: Tight layout not applied. The left and right margins cannot be made large enough to accommodate all axes decorations.\n",
      "  plt.tight_layout()\n"
     ]
    },
    {
     "name": "stdout",
     "output_type": "stream",
     "text": [
      "HLTAD threshold: 2.8420957766127004\n"
     ]
    },
    {
     "name": "stderr",
     "output_type": "stream",
     "text": [
      "/eos/home-i03/m/mmcohen/ad_trigger_development/src/AD_trigger_training/HLTAD/ensembler_functions.py:191: RuntimeWarning: invalid value encountered in double_scalars\n",
      "  gain = (combined - hlt) / hlt\n",
      "/eos/home-i03/m/mmcohen/ad_trigger_development/src/AD_trigger_training/HLTAD/ensembler_functions.py:237: UserWarning: Tight layout not applied. The left and right margins cannot be made large enough to accommodate all axes decorations.\n",
      "  plt.tight_layout()\n"
     ]
    },
    {
     "name": "stdout",
     "output_type": "stream",
     "text": [
      "phase 1: starting evals of model 4...\n",
      "HLTAD threshold: 6.931649792550996\n"
     ]
    },
    {
     "name": "stderr",
     "output_type": "stream",
     "text": [
      "/eos/home-i03/m/mmcohen/ad_trigger_development/src/AD_trigger_training/HLTAD/ensembler_functions.py:191: RuntimeWarning: invalid value encountered in double_scalars\n",
      "  gain = (combined - hlt) / hlt\n",
      "/eos/home-i03/m/mmcohen/ad_trigger_development/src/AD_trigger_training/HLTAD/ensembler_functions.py:237: UserWarning: Tight layout not applied. The left and right margins cannot be made large enough to accommodate all axes decorations.\n",
      "  plt.tight_layout()\n"
     ]
    },
    {
     "name": "stdout",
     "output_type": "stream",
     "text": [
      "HLTAD threshold: 2.735081056497324\n"
     ]
    },
    {
     "name": "stderr",
     "output_type": "stream",
     "text": [
      "/eos/home-i03/m/mmcohen/ad_trigger_development/src/AD_trigger_training/HLTAD/ensembler_functions.py:191: RuntimeWarning: invalid value encountered in double_scalars\n",
      "  gain = (combined - hlt) / hlt\n",
      "/eos/home-i03/m/mmcohen/ad_trigger_development/src/AD_trigger_training/HLTAD/ensembler_functions.py:237: UserWarning: Tight layout not applied. The left and right margins cannot be made large enough to accommodate all axes decorations.\n",
      "  plt.tight_layout()\n"
     ]
    },
    {
     "name": "stdout",
     "output_type": "stream",
     "text": [
      "phase 1: starting evals of model 5...\n",
      "HLTAD threshold: 6.726861277708962\n"
     ]
    },
    {
     "name": "stderr",
     "output_type": "stream",
     "text": [
      "/eos/home-i03/m/mmcohen/ad_trigger_development/src/AD_trigger_training/HLTAD/ensembler_functions.py:191: RuntimeWarning: invalid value encountered in double_scalars\n",
      "  gain = (combined - hlt) / hlt\n",
      "/eos/home-i03/m/mmcohen/ad_trigger_development/src/AD_trigger_training/HLTAD/ensembler_functions.py:237: UserWarning: Tight layout not applied. The left and right margins cannot be made large enough to accommodate all axes decorations.\n",
      "  plt.tight_layout()\n"
     ]
    },
    {
     "name": "stdout",
     "output_type": "stream",
     "text": [
      "HLTAD threshold: 3.147266155969906\n"
     ]
    },
    {
     "name": "stderr",
     "output_type": "stream",
     "text": [
      "/eos/home-i03/m/mmcohen/ad_trigger_development/src/AD_trigger_training/HLTAD/ensembler_functions.py:191: RuntimeWarning: invalid value encountered in double_scalars\n",
      "  gain = (combined - hlt) / hlt\n",
      "/eos/home-i03/m/mmcohen/ad_trigger_development/src/AD_trigger_training/HLTAD/ensembler_functions.py:237: UserWarning: Tight layout not applied. The left and right margins cannot be made large enough to accommodate all axes decorations.\n",
      "  plt.tight_layout()\n"
     ]
    },
    {
     "name": "stdout",
     "output_type": "stream",
     "text": [
      "phase 1: starting evals of model 6...\n",
      "HLTAD threshold: 6.879568682460212\n"
     ]
    },
    {
     "name": "stderr",
     "output_type": "stream",
     "text": [
      "/eos/home-i03/m/mmcohen/ad_trigger_development/src/AD_trigger_training/HLTAD/ensembler_functions.py:191: RuntimeWarning: invalid value encountered in double_scalars\n",
      "  gain = (combined - hlt) / hlt\n",
      "/eos/home-i03/m/mmcohen/ad_trigger_development/src/AD_trigger_training/HLTAD/ensembler_functions.py:237: UserWarning: Tight layout not applied. The left and right margins cannot be made large enough to accommodate all axes decorations.\n",
      "  plt.tight_layout()\n"
     ]
    },
    {
     "name": "stdout",
     "output_type": "stream",
     "text": [
      "HLTAD threshold: 2.9944461883330464\n"
     ]
    },
    {
     "name": "stderr",
     "output_type": "stream",
     "text": [
      "/eos/home-i03/m/mmcohen/ad_trigger_development/src/AD_trigger_training/HLTAD/ensembler_functions.py:191: RuntimeWarning: invalid value encountered in double_scalars\n",
      "  gain = (combined - hlt) / hlt\n",
      "/eos/home-i03/m/mmcohen/ad_trigger_development/src/AD_trigger_training/HLTAD/ensembler_functions.py:237: UserWarning: Tight layout not applied. The left and right margins cannot be made large enough to accommodate all axes decorations.\n",
      "  plt.tight_layout()\n"
     ]
    },
    {
     "name": "stdout",
     "output_type": "stream",
     "text": [
      "phase 1: starting evals of model 7...\n",
      "HLTAD threshold: 6.8877234106728\n"
     ]
    },
    {
     "name": "stderr",
     "output_type": "stream",
     "text": [
      "/eos/home-i03/m/mmcohen/ad_trigger_development/src/AD_trigger_training/HLTAD/ensembler_functions.py:191: RuntimeWarning: invalid value encountered in double_scalars\n",
      "  gain = (combined - hlt) / hlt\n",
      "/eos/home-i03/m/mmcohen/ad_trigger_development/src/AD_trigger_training/HLTAD/ensembler_functions.py:237: UserWarning: Tight layout not applied. The left and right margins cannot be made large enough to accommodate all axes decorations.\n",
      "  plt.tight_layout()\n"
     ]
    },
    {
     "name": "stdout",
     "output_type": "stream",
     "text": [
      "HLTAD threshold: 2.9876746795051776\n"
     ]
    },
    {
     "name": "stderr",
     "output_type": "stream",
     "text": [
      "/eos/home-i03/m/mmcohen/ad_trigger_development/src/AD_trigger_training/HLTAD/ensembler_functions.py:191: RuntimeWarning: invalid value encountered in double_scalars\n",
      "  gain = (combined - hlt) / hlt\n",
      "/eos/home-i03/m/mmcohen/ad_trigger_development/src/AD_trigger_training/HLTAD/ensembler_functions.py:237: UserWarning: Tight layout not applied. The left and right margins cannot be made large enough to accommodate all axes decorations.\n",
      "  plt.tight_layout()\n"
     ]
    },
    {
     "name": "stdout",
     "output_type": "stream",
     "text": [
      "phase 1: starting evals of model 8...\n",
      "HLTAD threshold: 6.853253827626819\n"
     ]
    },
    {
     "name": "stderr",
     "output_type": "stream",
     "text": [
      "/eos/home-i03/m/mmcohen/ad_trigger_development/src/AD_trigger_training/HLTAD/ensembler_functions.py:191: RuntimeWarning: invalid value encountered in double_scalars\n",
      "  gain = (combined - hlt) / hlt\n",
      "/eos/home-i03/m/mmcohen/ad_trigger_development/src/AD_trigger_training/HLTAD/ensembler_functions.py:237: UserWarning: Tight layout not applied. The left and right margins cannot be made large enough to accommodate all axes decorations.\n",
      "  plt.tight_layout()\n"
     ]
    },
    {
     "name": "stdout",
     "output_type": "stream",
     "text": [
      "HLTAD threshold: 2.7592767100199342\n"
     ]
    },
    {
     "name": "stderr",
     "output_type": "stream",
     "text": [
      "/eos/home-i03/m/mmcohen/ad_trigger_development/src/AD_trigger_training/HLTAD/ensembler_functions.py:191: RuntimeWarning: invalid value encountered in double_scalars\n",
      "  gain = (combined - hlt) / hlt\n",
      "/eos/home-i03/m/mmcohen/ad_trigger_development/src/AD_trigger_training/HLTAD/ensembler_functions.py:237: UserWarning: Tight layout not applied. The left and right margins cannot be made large enough to accommodate all axes decorations.\n",
      "  plt.tight_layout()\n"
     ]
    },
    {
     "name": "stdout",
     "output_type": "stream",
     "text": [
      "phase 1: starting evals of model 9...\n"
     ]
    }
   ],
   "source": [
    "# Model 1 ----------------------------------------------------\n",
    "training_info_1 = {\n",
    "    \"save_path\": \"/eos/home-m/mmcohen/ad_trigger_development/trained_models/trial_108\", \n",
    "    \"dropout_p\": 0.1, \n",
    "    \"L2_reg_coupling\": 0.01, \n",
    "    \"latent_dim\": 4, \n",
    "    \"large_network\": True, \n",
    "    \"num_trainings\": 10, \n",
    "    \"training_weights\": True\n",
    "}\n",
    "\n",
    "data_info_1 = {\n",
    "    \"train_data_scheme\": \"topo2A_train\", \n",
    "    \"pt_normalization_type\": \"global_division\", \n",
    "    \"L1AD_rate\": 1000, \n",
    "    \"pt_thresholds\": [50, 30, 30, 30], \n",
    "    \"comments\": \"new L1AD model\"\n",
    "}\n",
    "# ------------------------------------------------------------\n",
    "\n",
    "\n",
    "\n",
    "# Model 2 ----------------------------------------------------\n",
    "training_info_2 = {\n",
    "    \"save_path\": \"/eos/home-m/mmcohen/ad_trigger_development/trained_models/trial_104\", \n",
    "    \"dropout_p\": 0.1, \n",
    "    \"L2_reg_coupling\": 0.01, \n",
    "    \"latent_dim\": 4, \n",
    "    \"large_network\": True, \n",
    "    \"num_trainings\": 10, \n",
    "    \"training_weights\": True\n",
    "}\n",
    "\n",
    "data_info_2 = {\n",
    "    \"train_data_scheme\": \"topo2A_train\", \n",
    "    \"pt_normalization_type\": \"global_division\", \n",
    "    \"L1AD_rate\": 1000, \n",
    "    \"pt_thresholds\": [0, 0, 0, 0], \n",
    "    \"comments\": \"new L1AD model\"\n",
    "}\n",
    "# ------------------------------------------------------------\n",
    "\n",
    "# ef.process_multiple_models(\n",
    "#     training_info=training_info_1,\n",
    "#     data_info=data_info_1,\n",
    "#     plots_path=training_info_1['save_path']+'/plots2',\n",
    "#     target_rate=target_rate,\n",
    "#     L1AD_rate=L1AD_rate\n",
    "# )\n",
    "\n",
    "ef.process_multiple_models(\n",
    "    training_info=training_info_2,\n",
    "    data_info=data_info_2,\n",
    "    plots_path=training_info_2['save_path']+'/plots2',\n",
    "    target_rate=target_rate,\n",
    "    L1AD_rate=L1AD_rate\n",
    ")\n",
    "\n",
    "ef.compare_two_models(\n",
    "    data_info_1 = data_info_1,\n",
    "    training_info_1 = training_info_1,\n",
    "    data_info_2 = data_info_2,\n",
    "    training_info_2=training_info_2,\n",
    "    plots_path='/eos/home-m/mmcohen/ad_trigger_development/plots/model_comparison_plots_12-13-2024',\n",
    "    obj_types = ['HLT', 'L1'],\n",
    "    model_versions = [0, 0],\n",
    "    trigger_schemes = ['l1Seeded', 'l1Seeded'],\n",
    "    model_names = ['HLT_50303030', 'L1_0000']\n",
    ")"
   ]
  },
  {
   "cell_type": "code",
   "execution_count": null,
   "id": "e9aad4d2-3add-4d8f-a82d-ae36331c96e5",
   "metadata": {},
   "outputs": [],
   "source": []
  },
  {
   "cell_type": "markdown",
   "id": "b6913137-5617-41be-a2dd-417e01fadeb9",
   "metadata": {
    "jp-MarkdownHeadingCollapsed": true
   },
   "source": [
    "### Misc"
   ]
  },
  {
   "cell_type": "code",
   "execution_count": 16,
   "id": "17e6212a-f533-4c0d-885a-9f2b74691573",
   "metadata": {},
   "outputs": [
    {
     "name": "stdout",
     "output_type": "stream",
     "text": [
      "Loaded A14N23LO from /eos/home-m/mmcohen/ad_trigger_development/data/loaded_and_matched_ntuples/11-14-2024/A14N23LO.h5\n",
      "Loaded EB_473255 from /eos/home-m/mmcohen/ad_trigger_development/data/loaded_and_matched_ntuples/11-14-2024/EB_473255.h5\n",
      "Loaded EB_475321 from /eos/home-m/mmcohen/ad_trigger_development/data/loaded_and_matched_ntuples/11-14-2024/EB_475321.h5\n",
      "Loaded EB_482596 from /eos/home-m/mmcohen/ad_trigger_development/data/loaded_and_matched_ntuples/11-14-2024/EB_482596.h5\n",
      "Loaded HAHMggfZdZd2l2nu from /eos/home-m/mmcohen/ad_trigger_development/data/loaded_and_matched_ntuples/11-14-2024/HAHMggfZdZd2l2nu.h5\n",
      "Loaded HHbbttHadHad from /eos/home-m/mmcohen/ad_trigger_development/data/loaded_and_matched_ntuples/11-14-2024/HHbbttHadHad.h5\n",
      "Loaded HLT_noalg_eb_L1All from /eos/home-m/mmcohen/ad_trigger_development/data/loaded_and_matched_ntuples/11-14-2024/HLT_noalg_eb_L1All.h5\n",
      "Loaded ZZ4lep from /eos/home-m/mmcohen/ad_trigger_development/data/loaded_and_matched_ntuples/11-14-2024/ZZ4lep.h5\n",
      "Loaded Zprime2EJs from /eos/home-m/mmcohen/ad_trigger_development/data/loaded_and_matched_ntuples/11-14-2024/Zprime2EJs.h5\n",
      "Loaded jjJZ1 from /eos/home-m/mmcohen/ad_trigger_development/data/loaded_and_matched_ntuples/11-14-2024/jjJZ1.h5\n",
      "Loaded jjJZ2 from /eos/home-m/mmcohen/ad_trigger_development/data/loaded_and_matched_ntuples/11-14-2024/jjJZ2.h5\n",
      "Loaded jjJZ4 from /eos/home-m/mmcohen/ad_trigger_development/data/loaded_and_matched_ntuples/11-14-2024/jjJZ4.h5\n",
      "Loaded qqa from /eos/home-m/mmcohen/ad_trigger_development/data/loaded_and_matched_ntuples/11-14-2024/qqa.h5\n",
      "Loaded topo2A_train from /eos/home-m/mmcohen/ad_trigger_development/data/loaded_and_matched_ntuples/11-14-2024/topo2A_train.h5\n"
     ]
    }
   ],
   "source": [
    "data_info = {\n",
    "    \"train_data_scheme\": \"topo2A_train\", \n",
    "    \"pt_normalization_type\": \"global_division\", \n",
    "    \"L1AD_rate\": 1000,\n",
    "    \"pt_thresholds\": [-10, -10, -10, -10],\n",
    "    \"comments\": \"new L1AD model\"\n",
    "}\n",
    "\n",
    "datasets, data_info = ef.load_and_preprocess(**data_info)"
   ]
  },
  {
   "cell_type": "code",
   "execution_count": 28,
   "id": "9e926c6f-a37c-4ede-8726-cab462816557",
   "metadata": {},
   "outputs": [
    {
     "name": "stdout",
     "output_type": "stream",
     "text": [
      "0.821569221448046\n",
      "0.8800088440664284\n"
     ]
    }
   ],
   "source": [
    "idxs = datasets['EB_test']['L1Seeded']\n",
    "events = datasets['EB_test']['raw_HLT_data'][idxs]\n",
    "leading_jet_pt = np.reshape(events, newshape=(-1, 16, 3))[:, 0, 0]\n",
    "weights = datasets['EB_test']['weights'][idxs]\n",
    "num_zeroed = np.sum((leading_jet_pt != 0) & (leading_jet_pt < 50)) / len(leading_jet_pt)\n",
    "num_zeroed_weighted = np.sum(((leading_jet_pt != 0) & (leading_jet_pt < 50)) * weights) / np.sum(weights)\n",
    "\n",
    "print(num_zeroed)\n",
    "print(num_zeroed_weighted)"
   ]
  },
  {
   "cell_type": "code",
   "execution_count": 29,
   "id": "6ec611ba-75dd-4cc0-ab6c-08d135798b60",
   "metadata": {},
   "outputs": [
    {
     "name": "stdout",
     "output_type": "stream",
     "text": [
      "0.15237806725234776\n"
     ]
    }
   ],
   "source": [
    "print(np.sum(leading_jet_pt > 50) / len(leading_jet_pt))"
   ]
  },
  {
   "cell_type": "code",
   "execution_count": 47,
   "id": "78c57282-44d9-4b08-abaf-3f968159f429",
   "metadata": {},
   "outputs": [
    {
     "name": "stdout",
     "output_type": "stream",
     "text": [
      "0.493003492164424\n",
      "0.5656791574840984\n"
     ]
    }
   ],
   "source": [
    "events = datasets['EB_test']['raw_HLT_data']\n",
    "leading_jet_pt = np.reshape(events, newshape=(-1, 16, 3))[:, 0, 0]\n",
    "weights = datasets['EB_test']['weights']\n",
    "num_zeroed = np.sum((leading_jet_pt != 0) & (leading_jet_pt < 50)) / len(leading_jet_pt)\n",
    "num_zeroed_weighted = np.sum(((leading_jet_pt != 0) & (leading_jet_pt < 50)) * weights) / np.sum(weights)\n",
    "\n",
    "print(num_zeroed)\n",
    "print(num_zeroed_weighted)"
   ]
  },
  {
   "cell_type": "code",
   "execution_count": 57,
   "id": "53fb0c24-13b0-4cbd-9cb0-5cfd0ee429e8",
   "metadata": {},
   "outputs": [
    {
     "name": "stdout",
     "output_type": "stream",
     "text": [
      "0.9739472887003938\n",
      "0.9999194723423933\n"
     ]
    }
   ],
   "source": [
    "idxs = datasets['EB_test']['L1Seeded']\n",
    "events = datasets['EB_test']['raw_HLT_data'][idxs]\n",
    "leading_jet_pt = np.reshape(events, newshape=(-1, 16, 3))[:, 0, 0]\n",
    "weights = datasets['EB_test']['weights'][idxs]\n",
    "num_zeroed = np.sum((leading_jet_pt != 0)) / len(leading_jet_pt)\n",
    "num_zeroed_weighted = np.sum(((leading_jet_pt != 0)) * weights) / np.sum(weights)\n",
    "\n",
    "print(num_zeroed)\n",
    "print(num_zeroed_weighted)"
   ]
  },
  {
   "cell_type": "code",
   "execution_count": null,
   "id": "4c115f28-1405-4fda-8556-7702500ae26a",
   "metadata": {},
   "outputs": [],
   "source": []
  },
  {
   "cell_type": "code",
   "execution_count": 36,
   "id": "fa703afc-f816-4699-99f2-d9d5c164020f",
   "metadata": {
    "collapsed": true,
    "jupyter": {
     "outputs_hidden": true,
     "source_hidden": true
    }
   },
   "outputs": [
    {
     "data": {
      "image/png": "[encoded data removed]",
      "text/plain": [
       "<Figure size 1008x576 with 1 Axes>"
      ]
     },
     "metadata": {
      "needs_background": "light"
     },
     "output_type": "display_data"
    },
    {
     "data": {
      "image/png": "[encoded data removed]",
      "text/plain": [
       "<Figure size 1008x576 with 1 Axes>"
      ]
     },
     "metadata": {
      "needs_background": "light"
     },
     "output_type": "display_data"
    }
   ],
   "source": [
    "bins = {'HLT': np.linspace(0, 1500, 35),\n",
    "        'L1': np.linspace(0, 450, 35)}\n",
    "for data_type in ['HLT', 'L1']:\n",
    "    plt.rcParams['axes.linewidth'] = 2.4\n",
    "    plt.figure(figsize=(14, 8))\n",
    "    for tag, data_dict in datasets.items():\n",
    "        idxs = data_dict['L1Seeded']\n",
    "        data = np.reshape(data_dict[f'raw_{data_type}_data'], newshape=(-1, 16, 3))[idxs, 0, 0]\n",
    "        weights = datasets[tag]['weights'][idxs]\n",
    "        plt.hist(data, bins=bins[data_type], label=tag, histtype='step', density=True, fill=False, linewidth=3, weights=weights)\n",
    "    \n",
    "    plt.yscale('log')\n",
    "    plt.xlabel(f'{data_type} pt', fontsize=22)\n",
    "    plt.ylabel('density', fontsize=22)\n",
    "    plt.title(f'{data_type} leading jet pt', fontsize=30)\n",
    "    plt.grid()\n",
    "    plt.legend(fontsize=18, bbox_to_anchor=(1, 0.5), loc='center left')\n",
    "    plt.show()"
   ]
  },
  {
   "cell_type": "code",
   "execution_count": 54,
   "id": "1db23eb3-6a87-4a58-a32b-b446589f1a96",
   "metadata": {
    "collapsed": true,
    "jupyter": {
     "outputs_hidden": true,
     "source_hidden": true
    }
   },
   "outputs": [
    {
     "data": {
      "image/png": "[encoded data removed]",
      "text/plain": [
       "<Figure size 1008x576 with 1 Axes>"
      ]
     },
     "metadata": {
      "needs_background": "light"
     },
     "output_type": "display_data"
    },
    {
     "data": {
      "image/png": "[encoded data removed]",
      "text/plain": [
       "<Figure size 1008x576 with 1 Axes>"
      ]
     },
     "metadata": {
      "needs_background": "light"
     },
     "output_type": "display_data"
    }
   ],
   "source": [
    "bins = {'HLT': np.linspace(0, 50, 35),\n",
    "        'L1': np.linspace(0, 450, 35)}\n",
    "for data_type in ['HLT', 'L1']:\n",
    "    plt.figure(figsize=(14, 8))\n",
    "    tag = 'EB_test'\n",
    "    idxs = datasets[tag]['L1Seeded']\n",
    "    data = np.reshape(datasets[tag][f'raw_{data_type}_data'], newshape=(-1, 16, 3))[idxs, 0, 0]\n",
    "    weights = datasets[tag]['weights'][idxs]\n",
    "    plt.hist(data, bins=bins[data_type], label=tag, histtype='step', density=True, fill=False, linewidth=3, weights=weights)\n",
    "    \n",
    "    plt.yscale('log')\n",
    "    plt.xlabel(f'{data_type} pt', fontsize=22)\n",
    "    plt.ylabel('density', fontsize=22)\n",
    "    plt.title(f'{data_type} leading jet pt', fontsize=30)\n",
    "    plt.grid()\n",
    "    plt.legend(fontsize=18, bbox_to_anchor=(1, 0.5), loc='center left')\n",
    "    plt.show()"
   ]
  },
  {
   "cell_type": "code",
   "execution_count": 52,
   "id": "efe95ea3-f21b-491a-9986-09f5f4a03c9d",
   "metadata": {
    "collapsed": true,
    "jupyter": {
     "outputs_hidden": true,
     "source_hidden": true
    }
   },
   "outputs": [
    {
     "data": {
      "image/png": "[encoded data removed]",
      "text/plain": [
       "<Figure size 1008x576 with 1 Axes>"
      ]
     },
     "metadata": {
      "needs_background": "light"
     },
     "output_type": "display_data"
    },
    {
     "data": {
      "image/png": "[encoded data removed]",
      "text/plain": [
       "<Figure size 1008x576 with 1 Axes>"
      ]
     },
     "metadata": {
      "needs_background": "light"
     },
     "output_type": "display_data"
    }
   ],
   "source": [
    "bins = {'HLT': np.linspace(0, 30, 35),\n",
    "        'L1': np.linspace(0, 450, 35)}\n",
    "for data_type in ['HLT', 'L1']:\n",
    "    plt.figure(figsize=(14, 8))\n",
    "    tag = 'EB_test'\n",
    "    idxs = datasets[tag]['L1Seeded']\n",
    "    data = np.reshape(datasets[tag][f'raw_{data_type}_data'], newshape=(-1, 16, 3))[idxs, 6, 0]\n",
    "    weights = datasets[tag]['weights'][idxs]\n",
    "    plt.hist(data, bins=bins[data_type], label=tag, histtype='step', density=True, fill=False, linewidth=3, weights=weights)\n",
    "    \n",
    "    plt.yscale('log')\n",
    "    plt.xlabel(f'{data_type} pt', fontsize=22)\n",
    "    plt.ylabel('density', fontsize=22)\n",
    "    plt.title(f'{data_type} leading el pt', fontsize=30)\n",
    "    plt.grid()\n",
    "    plt.legend(fontsize=18, bbox_to_anchor=(1, 0.5), loc='center left')\n",
    "    plt.show()"
   ]
  },
  {
   "cell_type": "code",
   "execution_count": 51,
   "id": "ee089675-e599-4f07-aa78-2ed58a9bca8c",
   "metadata": {
    "collapsed": true,
    "jupyter": {
     "outputs_hidden": true,
     "source_hidden": true
    }
   },
   "outputs": [
    {
     "data": {
      "image/png": "[encoded data removed]",
      "text/plain": [
       "<Figure size 1008x576 with 1 Axes>"
      ]
     },
     "metadata": {
      "needs_background": "light"
     },
     "output_type": "display_data"
    },
    {
     "data": {
      "image/png": "[encoded data removed]",
      "text/plain": [
       "<Figure size 1008x576 with 1 Axes>"
      ]
     },
     "metadata": {
      "needs_background": "light"
     },
     "output_type": "display_data"
    }
   ],
   "source": [
    "bins = {'HLT': np.linspace(0, 30, 35),\n",
    "        'L1': np.linspace(0, 450, 35)}\n",
    "for data_type in ['HLT', 'L1']:\n",
    "    plt.figure(figsize=(14, 8))\n",
    "    tag = 'EB_test'\n",
    "    idxs = datasets[tag]['L1Seeded']\n",
    "    data = np.reshape(datasets[tag][f'raw_{data_type}_data'], newshape=(-1, 16, 3))[idxs, 9, 0]\n",
    "    weights = datasets[tag]['weights'][idxs]\n",
    "    plt.hist(data, bins=bins[data_type], label=tag, histtype='step', density=True, fill=False, linewidth=3, weights=weights)\n",
    "    \n",
    "    plt.yscale('log')\n",
    "    plt.xlabel(f'{data_type} pt', fontsize=22)\n",
    "    plt.ylabel('density', fontsize=22)\n",
    "    plt.title(f'{data_type} leading muon pt', fontsize=30)\n",
    "    plt.grid()\n",
    "    plt.legend(fontsize=18, bbox_to_anchor=(1, 0.5), loc='center left')\n",
    "    plt.show()"
   ]
  },
  {
   "cell_type": "code",
   "execution_count": 49,
   "id": "68c3b5a8-6336-4691-842e-4bdfd11ee64d",
   "metadata": {
    "collapsed": true,
    "jupyter": {
     "outputs_hidden": true,
     "source_hidden": true
    }
   },
   "outputs": [
    {
     "data": {
      "image/png": "[encoded data removed]",
      "text/plain": [
       "<Figure size 1008x576 with 1 Axes>"
      ]
     },
     "metadata": {
      "needs_background": "light"
     },
     "output_type": "display_data"
    },
    {
     "data": {
      "image/png": "[encoded data removed]",
      "text/plain": [
       "<Figure size 1008x576 with 1 Axes>"
      ]
     },
     "metadata": {
      "needs_background": "light"
     },
     "output_type": "display_data"
    }
   ],
   "source": [
    "bins = {'HLT': np.linspace(0, 30, 35),\n",
    "        'L1': np.linspace(0, 450, 35)}\n",
    "for data_type in ['HLT', 'L1']:\n",
    "    plt.figure(figsize=(14, 8))\n",
    "    tag = 'EB_test'\n",
    "    idxs = datasets[tag]['L1Seeded']\n",
    "    data = np.reshape(datasets[tag][f'raw_{data_type}_data'], newshape=(-1, 16, 3))[idxs, 12, 0]\n",
    "    weights = datasets[tag]['weights'][idxs]\n",
    "    plt.hist(data, bins=bins[data_type], label=tag, histtype='step', density=True, fill=False, linewidth=3, weights=weights)\n",
    "    \n",
    "    plt.yscale('log')\n",
    "    plt.xlabel(f'{data_type} pt', fontsize=22)\n",
    "    plt.ylabel('density', fontsize=22)\n",
    "    plt.title(f'{data_type} leading photon pt', fontsize=30)\n",
    "    plt.grid()\n",
    "    plt.legend(fontsize=18, bbox_to_anchor=(1, 0.5), loc='center left')\n",
    "    plt.show()"
   ]
  },
  {
   "cell_type": "code",
   "execution_count": 50,
   "id": "f00bcb5e-bb57-4a5f-aa28-d1bdee53c9d5",
   "metadata": {
    "collapsed": true,
    "jupyter": {
     "outputs_hidden": true,
     "source_hidden": true
    }
   },
   "outputs": [
    {
     "data": {
      "image/png": "[encoded data removed]",
      "text/plain": [
       "<Figure size 1008x576 with 1 Axes>"
      ]
     },
     "metadata": {
      "needs_background": "light"
     },
     "output_type": "display_data"
    },
    {
     "data": {
      "image/png": "[encoded data removed]",
      "text/plain": [
       "<Figure size 1008x576 with 1 Axes>"
      ]
     },
     "metadata": {
      "needs_background": "light"
     },
     "output_type": "display_data"
    }
   ],
   "source": [
    "bins = {'HLT': np.linspace(0, 30, 35),\n",
    "        'L1': np.linspace(0, 450, 35)}\n",
    "for data_type in ['HLT', 'L1']:\n",
    "    plt.figure(figsize=(14, 8))\n",
    "    tag = 'EB_test'\n",
    "    idxs = datasets[tag]['L1Seeded']\n",
    "    data = np.reshape(datasets[tag][f'raw_{data_type}_data'], newshape=(-1, 16, 3))[idxs, 6, 0]\n",
    "    weights = datasets[tag]['weights'][idxs]\n",
    "    plt.hist(data, bins=bins[data_type], label=tag, histtype='step', density=True, fill=False, linewidth=3, weights=weights)\n",
    "    \n",
    "    plt.yscale('log')\n",
    "    plt.xlabel(f'{data_type} pt', fontsize=22)\n",
    "    plt.ylabel('density', fontsize=22)\n",
    "    plt.title(f'{data_type} MET pt', fontsize=30)\n",
    "    plt.grid()\n",
    "    plt.legend(fontsize=18, bbox_to_anchor=(1, 0.5), loc='center left')\n",
    "    plt.show()"
   ]
  },
  {
   "cell_type": "code",
   "execution_count": null,
   "id": "e962d505-d771-4392-8d48-7cdf7b06205b",
   "metadata": {},
   "outputs": [],
   "source": []
  }
 ],
 "metadata": {
  "kernelspec": {
   "display_name": "Python 3",
   "language": "python",
   "name": "python3"
  },
  "language_info": {
   "codemirror_mode": {
    "name": "ipython",
    "version": 3
   },
   "file_extension": ".py",
   "mimetype": "text/x-python",
   "name": "python",
   "nbconvert_exporter": "python",
   "pygments_lexer": "ipython3",
   "version": "3.9.12"
  }
 },
 "nbformat": 4,
 "nbformat_minor": 5
}
