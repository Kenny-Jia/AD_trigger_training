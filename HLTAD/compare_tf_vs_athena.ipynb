{
 "cells": [
  {
   "cell_type": "code",
   "execution_count": 1,
   "id": "d76e1975-9cee-4a91-9f61-62528e576748",
   "metadata": {},
   "outputs": [
    {
     "name": "stderr",
     "output_type": "stream",
     "text": [
      "2025-01-27 20:42:00.399747: I tensorflow/core/util/port.cc:113] oneDNN custom operations are on. You may see slightly different numerical results due to floating-point round-off errors from different computation orders. To turn them off, set the environment variable `TF_ENABLE_ONEDNN_OPTS=0`.\n",
      "2025-01-27 20:42:00.458115: I tensorflow/core/platform/cpu_feature_guard.cc:210] This TensorFlow binary is optimized to use available CPU instructions in performance-critical operations.\n",
      "To enable the following instructions: AVX2 AVX512F AVX512_VNNI FMA, in other operations, rebuild TensorFlow with the appropriate compiler flags.\n"
     ]
    }
   ],
   "source": [
    "import numpy as np\n",
    "import v5_ensembler_functions as ef\n",
    "import tensorflow as tf\n",
    "from tensorflow.keras import Model\n",
    "import onnx\n",
    "import onnxruntime as ort"
   ]
  },
  {
   "cell_type": "code",
   "execution_count": 2,
   "id": "c5560135-26ac-4ec7-9007-1481c94f4624",
   "metadata": {},
   "outputs": [
    {
     "name": "stdout",
     "output_type": "stream",
     "text": [
      "Loaded A14N23LO from /eos/home-m/mmcohen/ad_trigger_development/data/loaded_and_matched_ntuples/12-13-2024/A14N23LO.h5\n",
      "Loaded EB_473255 from /eos/home-m/mmcohen/ad_trigger_development/data/loaded_and_matched_ntuples/12-13-2024/EB_473255.h5\n",
      "Loaded EB_475321 from /eos/home-m/mmcohen/ad_trigger_development/data/loaded_and_matched_ntuples/12-13-2024/EB_475321.h5\n",
      "Loaded EB_482596 from /eos/home-m/mmcohen/ad_trigger_development/data/loaded_and_matched_ntuples/12-13-2024/EB_482596.h5\n",
      "Loaded HAHMggfZdZd2l2nu from /eos/home-m/mmcohen/ad_trigger_development/data/loaded_and_matched_ntuples/12-13-2024/HAHMggfZdZd2l2nu.h5\n",
      "Loaded HHbbttHadHad from /eos/home-m/mmcohen/ad_trigger_development/data/loaded_and_matched_ntuples/12-13-2024/HHbbttHadHad.h5\n",
      "Loaded HLT_noalg_eb_L1All from /eos/home-m/mmcohen/ad_trigger_development/data/loaded_and_matched_ntuples/12-13-2024/HLT_noalg_eb_L1All.h5\n",
      "Loaded ZZ4lep from /eos/home-m/mmcohen/ad_trigger_development/data/loaded_and_matched_ntuples/12-13-2024/ZZ4lep.h5\n",
      "Loaded Zprime2EJs from /eos/home-m/mmcohen/ad_trigger_development/data/loaded_and_matched_ntuples/12-13-2024/Zprime2EJs.h5\n",
      "Loaded jjJZ1 from /eos/home-m/mmcohen/ad_trigger_development/data/loaded_and_matched_ntuples/12-13-2024/jjJZ1.h5\n",
      "Loaded jjJZ2 from /eos/home-m/mmcohen/ad_trigger_development/data/loaded_and_matched_ntuples/12-13-2024/jjJZ2.h5\n",
      "Loaded jjJZ4 from /eos/home-m/mmcohen/ad_trigger_development/data/loaded_and_matched_ntuples/12-13-2024/jjJZ4.h5\n",
      "Loaded mc23e_ChiPlusChiMinus100_99_0p3ns from /eos/home-m/mmcohen/ad_trigger_development/data/loaded_and_matched_ntuples/12-13-2024/mc23e_ChiPlusChiMinus100_99_0p3ns.h5\n",
      "Loaded mc23e_ChiPlusChiMinus500_40_10ns from /eos/home-m/mmcohen/ad_trigger_development/data/loaded_and_matched_ntuples/12-13-2024/mc23e_ChiPlusChiMinus500_40_10ns.h5\n",
      "Loaded mc23e_HAHMggf from /eos/home-m/mmcohen/ad_trigger_development/data/loaded_and_matched_ntuples/12-13-2024/mc23e_HAHMggf.h5\n",
      "Loaded mc23e_HNLeemu from /eos/home-m/mmcohen/ad_trigger_development/data/loaded_and_matched_ntuples/12-13-2024/mc23e_HNLeemu.h5\n",
      "Loaded mc23e_RS_G_hh_bbbb_AutoWidth_c10_M300 from /eos/home-m/mmcohen/ad_trigger_development/data/loaded_and_matched_ntuples/12-13-2024/mc23e_RS_G_hh_bbbb_AutoWidth_c10_M300.h5\n",
      "Loaded mc23e_ZZ4lep from /eos/home-m/mmcohen/ad_trigger_development/data/loaded_and_matched_ntuples/12-13-2024/mc23e_ZZ4lep.h5\n",
      "Loaded mc23e_jjJZ2 from /eos/home-m/mmcohen/ad_trigger_development/data/loaded_and_matched_ntuples/12-13-2024/mc23e_jjJZ2.h5\n",
      "Loaded mc23e_jjJZ4 from /eos/home-m/mmcohen/ad_trigger_development/data/loaded_and_matched_ntuples/12-13-2024/mc23e_jjJZ4.h5\n",
      "Loaded mc23e_ttbar_1lep from /eos/home-m/mmcohen/ad_trigger_development/data/loaded_and_matched_ntuples/12-13-2024/mc23e_ttbar_1lep.h5\n",
      "Loaded mc23e_ttbar_2lep from /eos/home-m/mmcohen/ad_trigger_development/data/loaded_and_matched_ntuples/12-13-2024/mc23e_ttbar_2lep.h5\n",
      "Loaded qqa from /eos/home-m/mmcohen/ad_trigger_development/data/loaded_and_matched_ntuples/12-13-2024/qqa.h5\n",
      "Loaded topo2A_train from /eos/home-m/mmcohen/ad_trigger_development/data/loaded_and_matched_ntuples/12-13-2024/topo2A_train.h5\n"
     ]
    }
   ],
   "source": [
    "data_info = {\n",
    "    \"train_data_scheme\": \"topo2A_train\", \n",
    "    \"pt_normalization_type\": \"global_division\", \n",
    "    \"L1AD_rate\": 1000, \n",
    "    \"pt_thresholds\": [50, 30, 30, 30], \n",
    "    \"pt_scale_factor\": 0.05,\n",
    "    \"comments\": \"\"\n",
    "}\n",
    "\n",
    "training_info = {\n",
    "    \"save_path\": \"/eos/home-m/mmcohen/ad_trigger_development/trained_models/trial_111\", \n",
    "    \"dropout_p\": 0.1, \n",
    "    \"L2_reg_coupling\": 0.01, \n",
    "    \"latent_dim\": 4, \n",
    "    \"large_network\": True, \n",
    "    \"num_trainings\": 1, \n",
    "    \"training_weights\": True\n",
    "}\n",
    "\n",
    "datasets, data_info = ef.load_and_preprocess(**data_info)\n",
    "model_version=0"
   ]
  },
  {
   "cell_type": "code",
   "execution_count": 3,
   "id": "8e6ecd5e-c7a7-4384-8be4-a3f1dda71079",
   "metadata": {},
   "outputs": [
    {
     "name": "stderr",
     "output_type": "stream",
     "text": [
      "/cvmfs/sft.cern.ch/lcg/views/LCG_106a_swan/x86_64-el9-gcc13-opt/lib/python3.11/site-packages/keras/src/saving/saving_lib.py:415: UserWarning: Skipping variable loading for optimizer 'adam', because it has 2 variables whereas the saved optimizer has 78 variables. \n",
      "  saveable.load_own_variables(weights_store.get(inner_path))\n"
     ]
    }
   ],
   "source": [
    "datasets = ef.compare_tf_with_onnx(\n",
    "    datasets=datasets,\n",
    "    training_info=training_info,\n",
    "    data_info=data_info,\n",
    "    model_version=model_version,\n",
    "    onnx_path='/eos/home-m/mmcohen/ad_trigger_development/src/AD_trigger_training/HLTAD/onnx_models'\n",
    ")"
   ]
  },
  {
   "cell_type": "code",
   "execution_count": 4,
   "id": "69ce8ee5-7ea3-455b-bac3-dd19f6339b5a",
   "metadata": {},
   "outputs": [
    {
     "name": "stdout",
     "output_type": "stream",
     "text": [
      "[2.7721539 1.2827406]\n",
      "\n",
      "[2.7721539 1.2827406]\n",
      "\n"
     ]
    }
   ],
   "source": [
    "print(datasets['kaito']['HLT_AD_scores'][0:2])\n",
    "print()\n",
    "print(datasets['kaito']['ONNX_HLT_AD_scores'][0:2])\n",
    "\n",
    "print()"
   ]
  },
  {
   "cell_type": "code",
   "execution_count": 5,
   "id": "777784f6",
   "metadata": {},
   "outputs": [
    {
     "name": "stdout",
     "output_type": "stream",
     "text": [
      "[[ 1.66319e+02  3.40000e-02  5.06000e-01  8.01890e+01 -9.87000e-01\n",
      "  -1.82500e+00  7.45050e+01  2.85900e+00  2.48600e+00  4.54750e+01\n",
      "  -1.83300e+00 -2.60400e+00  3.20590e+01 -9.92000e-01  3.39000e-01\n",
      "   2.84180e+01 -2.10000e-02 -3.79000e-01  3.11090e+01  3.80000e-02\n",
      "   4.46000e-01  3.11090e+01  3.80000e-02  4.46000e-01  3.11090e+01\n",
      "   3.80000e-02  4.46000e-01  0.00000e+00  0.00000e+00  0.00000e+00\n",
      "   0.00000e+00  0.00000e+00  0.00000e+00  0.00000e+00  0.00000e+00\n",
      "   0.00000e+00  1.18280e+01 -1.05600e+00 -1.83600e+00  0.00000e+00\n",
      "   0.00000e+00  0.00000e+00  0.00000e+00  0.00000e+00  0.00000e+00\n",
      "   6.10360e+01  0.00000e+00 -2.83000e+00]\n",
      " [ 9.81700e+01 -7.65000e-01  2.70700e+00  4.92670e+01 -1.19000e-01\n",
      "   8.50000e-02  2.11280e+01  8.91000e-01 -1.51000e+00  1.90110e+01\n",
      "  -1.37200e+00  1.16800e+00  1.67700e+01 -2.10000e-01  1.87800e+00\n",
      "   1.65900e+01 -1.37700e+00  2.59900e+00  6.45860e+01 -7.23000e-01\n",
      "   2.69500e+00  0.00000e+00  0.00000e+00  0.00000e+00  0.00000e+00\n",
      "   0.00000e+00  0.00000e+00  0.00000e+00  0.00000e+00  0.00000e+00\n",
      "   0.00000e+00  0.00000e+00  0.00000e+00  0.00000e+00  0.00000e+00\n",
      "   0.00000e+00  6.26340e+01 -7.56000e-01  2.69900e+00  0.00000e+00\n",
      "   0.00000e+00  0.00000e+00  0.00000e+00  0.00000e+00  0.00000e+00\n",
      "   3.78740e+01  0.00000e+00 -6.63000e-01]]\n"
     ]
    }
   ],
   "source": [
    "print(datasets['kaito']['HLT_data'][0:2])"
   ]
  },
  {
   "cell_type": "code",
   "execution_count": 6,
   "id": "aba92183",
   "metadata": {},
   "outputs": [
    {
     "name": "stdout",
     "output_type": "stream",
     "text": [
      "dict_keys(['HLT_data', 'L1_data', 'event_numbers', 'passHLT', 'passL1', 'pileups', 'run_numbers', 'topo2A_AD_scores', 'weights', 'L1Seeded', 'raw_HLT_data', 'raw_L1_data'])\n"
     ]
    }
   ],
   "source": [
    "print(datasets['kaito'].keys())"
   ]
  },
  {
   "cell_type": "code",
   "execution_count": null,
   "id": "ee3601fc-0360-429d-ad51-c949e57d1193",
   "metadata": {},
   "outputs": [],
   "source": []
  }
 ],
 "metadata": {
  "@webio": {
   "lastCommId": null,
   "lastKernelId": null
  },
  "kernelspec": {
   "display_name": "Python 3",
   "language": "python",
   "name": "python3"
  },
  "language_info": {
   "codemirror_mode": {
    "name": "ipython",
    "version": 3
   },
   "file_extension": ".py",
   "mimetype": "text/x-python",
   "name": "python",
   "nbconvert_exporter": "python",
   "pygments_lexer": "ipython3",
   "version": "3.11.9"
  }
 },
 "nbformat": 4,
 "nbformat_minor": 5
}
